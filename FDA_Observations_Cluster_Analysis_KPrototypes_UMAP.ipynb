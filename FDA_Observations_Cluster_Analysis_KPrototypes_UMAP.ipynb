{
  "nbformat": 4,
  "nbformat_minor": 0,
  "metadata": {
    "colab": {
      "name": "FDA_Observations_Cluster_Analysis_KPrototypes_UMAP.ipynb",
      "provenance": [],
      "collapsed_sections": []
    },
    "kernelspec": {
      "display_name": "Python 3",
      "name": "python3"
    }
  },
  "cells": [
    {
      "cell_type": "markdown",
      "metadata": {
        "id": "2MrestHQr6AG"
      },
      "source": [
        "#**Applying Unsupervised Learning to FDA Inspections and Citations**\n",
        "\n",
        "#####FDA is a US agency responsible for assuring the safety and quality of foods, medicines, and cosmetics entering the US. One of its robust set of tools is inspection of domestic and foreign manufacturers and market authority holders. This analysis focused on biologics, devices, and drugs. \n",
        "\n",
        "Excluding few cases, FDA classifies inspections into one of the following:\n",
        "\n",
        "*   No Action Indicated (NAI)\n",
        "*   Voluntary Action Indicated (VAI)\n",
        "*   Official Action Indicated (OAI)\n",
        "\n",
        "Inspections are classified NAI if no objectionable conditions (i.e. observations) are found. Inspections are classified OAI if serious violations to rules and regulations are found. OAI inspections often result in enforcement actions such as warning letters, consent decrees and import alerts to stop manufacturing within US or prevent shipment of products into US. All other inspections are classified VAI.\n",
        "\n",
        "In this project, the goal is to characterize inspections classified OAI or NAI in Human Drugs, Biologics, and Medical Devices.\n",
        "\n"
      ]
    },
    {
      "cell_type": "markdown",
      "metadata": {
        "id": "NEB_PLV9MGhg"
      },
      "source": [
        "# **1. Import Libraries**"
      ]
    },
    {
      "cell_type": "code",
      "metadata": {
        "id": "KAFmaou3MKIf",
        "outputId": "be88ac37-fe63-4076-dc60-cc1fac6c571e",
        "colab": {
          "base_uri": "https://localhost:8080/"
        }
      },
      "source": [
        "%matplotlib inline\n",
        "import matplotlib.pyplot as plt\n",
        "import seaborn as sns\n",
        "import altair as alt\n",
        "import numpy as np\n",
        "import pandas as pd\n",
        "\n",
        "from sklearn.impute import SimpleImputer\n",
        "from sklearn.preprocessing import LabelEncoder, OneHotEncoder, StandardScaler, MaxAbsScaler, PowerTransformer\n",
        "from sklearn.compose import make_column_selector, make_column_transformer, ColumnTransformer\n",
        "from sklearn.pipeline import make_pipeline, Pipeline\n",
        "from sklearn.model_selection import train_test_split\n",
        "from sklearn.metrics import roc_auc_score, precision_score, recall_score, f1_score, accuracy_score, log_loss\n",
        "\n",
        "!pip install umap-learn\n",
        "import umap\n",
        "from umap import umap_\n",
        "!pip install kmodes\n",
        "from kmodes.kprototypes import KPrototypes\n",
        "import xgboost\n",
        "from xgboost import XGBClassifier\n",
        "\n",
        "import warnings"
      ],
      "execution_count": 1,
      "outputs": [
        {
          "output_type": "stream",
          "text": [
            "Requirement already satisfied: umap-learn in /usr/local/lib/python3.6/dist-packages (0.4.6)\n",
            "Requirement already satisfied: scikit-learn>=0.20 in /usr/local/lib/python3.6/dist-packages (from umap-learn) (0.22.2.post1)\n",
            "Requirement already satisfied: scipy>=1.3.1 in /usr/local/lib/python3.6/dist-packages (from umap-learn) (1.4.1)\n",
            "Requirement already satisfied: numba!=0.47,>=0.46 in /usr/local/lib/python3.6/dist-packages (from umap-learn) (0.48.0)\n",
            "Requirement already satisfied: numpy>=1.17 in /usr/local/lib/python3.6/dist-packages (from umap-learn) (1.18.5)\n",
            "Requirement already satisfied: joblib>=0.11 in /usr/local/lib/python3.6/dist-packages (from scikit-learn>=0.20->umap-learn) (0.17.0)\n",
            "Requirement already satisfied: setuptools in /usr/local/lib/python3.6/dist-packages (from numba!=0.47,>=0.46->umap-learn) (50.3.2)\n",
            "Requirement already satisfied: llvmlite<0.32.0,>=0.31.0dev0 in /usr/local/lib/python3.6/dist-packages (from numba!=0.47,>=0.46->umap-learn) (0.31.0)\n",
            "Requirement already satisfied: kmodes in /usr/local/lib/python3.6/dist-packages (0.10.2)\n",
            "Requirement already satisfied: joblib>=0.11 in /usr/local/lib/python3.6/dist-packages (from kmodes) (0.17.0)\n",
            "Requirement already satisfied: scipy>=0.13.3 in /usr/local/lib/python3.6/dist-packages (from kmodes) (1.4.1)\n",
            "Requirement already satisfied: scikit-learn>=0.19.0 in /usr/local/lib/python3.6/dist-packages (from kmodes) (0.22.2.post1)\n",
            "Requirement already satisfied: numpy>=1.10.4 in /usr/local/lib/python3.6/dist-packages (from kmodes) (1.18.5)\n"
          ],
          "name": "stdout"
        }
      ]
    },
    {
      "cell_type": "markdown",
      "metadata": {
        "id": "kxwwIaUhIHrB"
      },
      "source": [
        "#**2. Load & Merge Data Sources**"
      ]
    },
    {
      "cell_type": "markdown",
      "metadata": {
        "id": "6KpMa7NxHn4_"
      },
      "source": [
        "#####FDA publishes inspectional data from 2008 to present. Published data sets do not represent all inspections as the FDA neither publishes Pre-Approval Inspections (PAI) nor includes inspection reports submitted in paper."
      ]
    },
    {
      "cell_type": "code",
      "metadata": {
        "id": "r1vX-m0ByFPE"
      },
      "source": [
        "# Load data sources\n",
        "\n",
        "url1 = 'https://www.fda.gov/media/79333/download' # FDA inspectional classification\n",
        "df1 = pd.read_excel(url1)\n",
        "url2 = 'https://www.fda.gov/media/107480/download' # FDA inspectional observations\n",
        "df2 = pd.read_excel(url2)"
      ],
      "execution_count": 2,
      "outputs": []
    },
    {
      "cell_type": "code",
      "metadata": {
        "id": "6PfqSQS8hIOz"
      },
      "source": [
        "# Merge inspectional classification and inspectional citations data sources\n",
        "\n",
        "# Outer join to include inspections classified NAI as inspections in right dataframe are never classified NAI\n",
        "df = pd.merge(df1, df2, how='outer', \n",
        "              left_on=['Legal Name', 'Inspection End Date'], \n",
        "              right_on=['Firm Name', 'Inspection End Date']\n",
        "              )\n",
        "\n",
        "df = df[['Firm Name', 'Country/Area_y', 'Program Area', 'Inspection End Date', \n",
        "         'Classification', 'CFR/Act Number', 'Short Description', \n",
        "         'Long Description']]\n",
        "\n",
        "df = df.rename(columns={'Country/Area_y':'Country'})\n",
        "\n",
        "df.drop_duplicates(inplace=True)"
      ],
      "execution_count": 3,
      "outputs": []
    },
    {
      "cell_type": "code",
      "metadata": {
        "id": "LfKLttVRyM82",
        "outputId": "8f866d11-3a5f-4d5a-a3e1-c1b5058442e1",
        "colab": {
          "base_uri": "https://localhost:8080/",
          "height": 142
        }
      },
      "source": [
        "# Dataframe lists citations \n",
        "\n",
        "df.tail(3)"
      ],
      "execution_count": 4,
      "outputs": [
        {
          "output_type": "execute_result",
          "data": {
            "text/html": [
              "<div>\n",
              "<style scoped>\n",
              "    .dataframe tbody tr th:only-of-type {\n",
              "        vertical-align: middle;\n",
              "    }\n",
              "\n",
              "    .dataframe tbody tr th {\n",
              "        vertical-align: top;\n",
              "    }\n",
              "\n",
              "    .dataframe thead th {\n",
              "        text-align: right;\n",
              "    }\n",
              "</style>\n",
              "<table border=\"1\" class=\"dataframe\">\n",
              "  <thead>\n",
              "    <tr style=\"text-align: right;\">\n",
              "      <th></th>\n",
              "      <th>Firm Name</th>\n",
              "      <th>Country</th>\n",
              "      <th>Program Area</th>\n",
              "      <th>Inspection End Date</th>\n",
              "      <th>Classification</th>\n",
              "      <th>CFR/Act Number</th>\n",
              "      <th>Short Description</th>\n",
              "      <th>Long Description</th>\n",
              "    </tr>\n",
              "  </thead>\n",
              "  <tbody>\n",
              "    <tr>\n",
              "      <th>480841</th>\n",
              "      <td>UCC UESHIMA COFFEE CO.(AMERICA) Inc.</td>\n",
              "      <td>United States</td>\n",
              "      <td>Foods</td>\n",
              "      <td>2020-09-11</td>\n",
              "      <td>NaN</td>\n",
              "      <td>21 CFR 1.506(a)(1)</td>\n",
              "      <td>Approved supplier procedures - importer establ...</td>\n",
              "      <td>You did not establish written procedures to en...</td>\n",
              "    </tr>\n",
              "    <tr>\n",
              "      <th>480842</th>\n",
              "      <td>UCC UESHIMA COFFEE CO.(AMERICA) Inc.</td>\n",
              "      <td>United States</td>\n",
              "      <td>Foods</td>\n",
              "      <td>2020-09-11</td>\n",
              "      <td>NaN</td>\n",
              "      <td>21 CFR 1.506(e)(1)</td>\n",
              "      <td>Verification activity before import, periodically</td>\n",
              "      <td>You did not conduct and document or obtain doc...</td>\n",
              "    </tr>\n",
              "    <tr>\n",
              "      <th>480843</th>\n",
              "      <td>UCC UESHIMA COFFEE CO.(AMERICA) Inc.</td>\n",
              "      <td>United States</td>\n",
              "      <td>Foods</td>\n",
              "      <td>2020-09-11</td>\n",
              "      <td>NaN</td>\n",
              "      <td>21 CFR 1.506(b)</td>\n",
              "      <td>Supplier verification - establish written proc...</td>\n",
              "      <td>You did not establish written procedures for e...</td>\n",
              "    </tr>\n",
              "  </tbody>\n",
              "</table>\n",
              "</div>"
            ],
            "text/plain": [
              "                                   Firm Name  ...                                   Long Description\n",
              "480841  UCC UESHIMA COFFEE CO.(AMERICA) Inc.  ...  You did not establish written procedures to en...\n",
              "480842  UCC UESHIMA COFFEE CO.(AMERICA) Inc.  ...  You did not conduct and document or obtain doc...\n",
              "480843  UCC UESHIMA COFFEE CO.(AMERICA) Inc.  ...  You did not establish written procedures for e...\n",
              "\n",
              "[3 rows x 8 columns]"
            ]
          },
          "metadata": {
            "tags": []
          },
          "execution_count": 4
        }
      ]
    },
    {
      "cell_type": "markdown",
      "metadata": {
        "id": "ajKF-55DJHjD"
      },
      "source": [
        "#**3. Data Processing**"
      ]
    },
    {
      "cell_type": "markdown",
      "metadata": {
        "id": "FcLns5k_INdz"
      },
      "source": [
        "###**3.1. Data Cleaning**"
      ]
    },
    {
      "cell_type": "code",
      "metadata": {
        "id": "d2O6DPTMo-pA",
        "outputId": "bbca8a8b-3f79-43bf-a1b3-7b185ee7a84f",
        "colab": {
          "base_uri": "https://localhost:8080/"
        }
      },
      "source": [
        "# Check for missing values\n",
        "\n",
        "((df\n",
        "  .isna()\n",
        "  .mean()\n",
        "  *100)\n",
        "  .pipe(lambda ser : ser[ser > 0])\n",
        ")\n",
        "\n",
        "# Only Inspection End Date column has no missing values"
      ],
      "execution_count": 5,
      "outputs": [
        {
          "output_type": "execute_result",
          "data": {
            "text/plain": [
              "Firm Name            3.062023\n",
              "Country              3.062023\n",
              "Program Area         3.062023\n",
              "Classification       0.876507\n",
              "CFR/Act Number       3.129505\n",
              "Short Description    3.062023\n",
              "Long Description     3.063173\n",
              "dtype: float64"
            ]
          },
          "metadata": {
            "tags": []
          },
          "execution_count": 5
        }
      ]
    },
    {
      "cell_type": "code",
      "metadata": {
        "id": "7d_J9lyGnemr",
        "outputId": "6b35c386-7b17-4e55-d217-d842a41b2a2b",
        "colab": {
          "base_uri": "https://localhost:8080/"
        }
      },
      "source": [
        "df['Classification'].value_counts(dropna=False)"
      ],
      "execution_count": 6,
      "outputs": [
        {
          "output_type": "execute_result",
          "data": {
            "text/plain": [
              "VAI    177581\n",
              "OAI     42846\n",
              "NAI     38095\n",
              "NaN      2286\n",
              "Name: Classification, dtype: int64"
            ]
          },
          "metadata": {
            "tags": []
          },
          "execution_count": 6
        }
      ]
    },
    {
      "cell_type": "code",
      "metadata": {
        "id": "ZSOVwGcMnxuH",
        "outputId": "44b818a2-69cc-4a03-b685-1249cbb1c7b5",
        "colab": {
          "base_uri": "https://localhost:8080/"
        }
      },
      "source": [
        "df[df['Classification'].isna()]['Program Area'].value_counts(dropna=False)"
      ],
      "execution_count": 7,
      "outputs": [
        {
          "output_type": "execute_result",
          "data": {
            "text/plain": [
              "Foods                               1246\n",
              "Devices                              385\n",
              "Drugs                                378\n",
              "Veterinary Medicine                   98\n",
              "Human Tissue for Transplantation      58\n",
              "Parts 1240 and 1250                   45\n",
              "Biologics                             41\n",
              "Bioresearch Monitoring                31\n",
              "Part 11 Compliance                     4\n",
              "Name: Program Area, dtype: int64"
            ]
          },
          "metadata": {
            "tags": []
          },
          "execution_count": 7
        }
      ]
    },
    {
      "cell_type": "code",
      "metadata": {
        "id": "wXJznlCGFAzQ",
        "outputId": "5c1a7b06-4727-4be9-c2fd-699f1a970479",
        "colab": {
          "base_uri": "https://localhost:8080/"
        }
      },
      "source": [
        "# Countries ranked by citation count in descending order\n",
        "\n",
        "(df['Country'].value_counts().to_frame().reset_index()\n",
        ").rename(columns={'Country':'Count','index':'Country'})['Country'].head(10)"
      ],
      "execution_count": 8,
      "outputs": [
        {
          "output_type": "execute_result",
          "data": {
            "text/plain": [
              "0              United States\n",
              "1                      India\n",
              "2                     Canada\n",
              "3                    Germany\n",
              "4                      Italy\n",
              "5    Korea (the Republic of)\n",
              "6                      China\n",
              "7                      Japan\n",
              "8             United Kingdom\n",
              "9                      Spain\n",
              "Name: Country, dtype: object"
            ]
          },
          "metadata": {
            "tags": []
          },
          "execution_count": 8
        }
      ]
    },
    {
      "cell_type": "markdown",
      "metadata": {
        "id": "dZi3rxYDhdR6"
      },
      "source": [
        "###**3.2. Feature Engineering**"
      ]
    },
    {
      "cell_type": "markdown",
      "metadata": {
        "id": "89A5H_bXJ5ME"
      },
      "source": [
        "Since the merged dataframe is indexed by observations and this project aims to characterize inspection classification, I am grouping all the observations by inspection and counting the number of citations. I am also imputing the data, creating a regional feature, and filtering the inspections to those of my interest:\n",
        "\n",
        "\n",
        "*   Human Drugs\n",
        "*   Biologics\n",
        "*   Devices\n",
        "\n"
      ]
    },
    {
      "cell_type": "code",
      "metadata": {
        "id": "dPacC3Td1Nd_"
      },
      "source": [
        "# Dictionary to group countries into regions\n",
        "\n",
        "dict_region = {'NA':['United States','Canada'],\n",
        "              'APAC':['Thailand','Taiwan','Japan','China','India','Fiji','Philippines',\n",
        "                      'Korea (the Republic of)','Singapore','Malaysia','Vietnam',\n",
        "                      'Indonesia','Australia','Hong Kong SAR','Bangladesh','Macao',\n",
        "                      'Maldives','French Polynesia','New Zealand','Sri Lanka',\n",
        "                      'Western Samoa'],\n",
        "              'EMEA':['Germany','Sweden','United Kingdom','Netherlands','Hungary',\n",
        "                      'Russia','Czech Republic','Ireland','France','Spain','Switzerland',\n",
        "                      'Italy', 'Portugal','Belgium','Denmark','South Africa','Slovakia',\n",
        "                      'Israel','Austria','Greece','Norway','Poland','Romania','Croatia',\n",
        "                      'Saudi Arabia','Egypt','Jordan','Ghana','Oman','Finland','Bulgaria',\n",
        "                      'Serbia','Turkey','Slovenia','Tunisia','Morocco','Tonga','Belarus',\n",
        "                      'Estonia','Madagascar','Macedonia','Malawi','Ukraine','Malta',\n",
        "                      'Lithuania','Monaco','Iceland','Senegal','Latvia','Cyprus',\n",
        "                      'Liechtenstein','Bosnia-Hercegovina','Armenia',\n",
        "                      'United Arab Emirates','Georgia','Cape Verde','Faroe Islands',\n",
        "                      'Ivory Coast','Mauritius'],\n",
        "              'LATAM':['Ecuador','Peru','Mexico','Dominican Republic (the)',\n",
        "                      'Guatemala','Columbia','Brazil','Chile','Costa Rica',\n",
        "                      'Nicaragua','Panama','Venezuela','Barbados','Argentina',\n",
        "                      'Paraguay','Surinam','El Salvador','Trinidad & Tobago',\n",
        "                      'St. Vincent & The Grenadines','Bolivia','Bahamas','Jamaica',\n",
        "                      'Uruguay','Belize','Grenada','Guyana','Colombia']\n",
        "              }"
      ],
      "execution_count": 9,
      "outputs": []
    },
    {
      "cell_type": "code",
      "metadata": {
        "id": "CV_i7G9Xu1dd"
      },
      "source": [
        "def count_citation(df):\n",
        "  \n",
        "  \"\"\"Function counts citations per inspections and imputes data\"\"\"\n",
        "\n",
        "  df.loc[(df['Classification'] == 'OAI') | (df['Classification'] == 'VAI'),'Citations'] = 1\n",
        "  df.loc[df['Classification'] == 'NAI','Citations'] = 0\n",
        "  df['Program Area'].replace({'Foods':'Other',\n",
        "                       'Veterinary Medicine':'Other',\n",
        "                       'Bioresearch Monitoring':'Other',\n",
        "                       'Human Tissue for Transplantation': 'Other',\n",
        "                       'Parts 1240 and 1250': 'Other',\n",
        "                       'Radiologic Health': 'Other',\n",
        "                       'Part 11 Compliance': 'Other'},\n",
        "                       inplace=True\n",
        "                       )\n",
        "  def limit_domestic(val):\n",
        "    if val in {'United States'}:\n",
        "      return 'Domestic'\n",
        "    return 'Foreign'\n",
        "  df['Domestic'] = df['Country'].apply(limit_domestic)\n",
        "  df['Region'] = df['Country']\n",
        "  for k in dict_region.keys():\n",
        "    df.loc[df['Country'].isin(dict_region[k]), 'Region'] = k\n",
        "  df = df.groupby(['Firm Name', \n",
        "                    'Country',\n",
        "                    'Region', \n",
        "                    'Domestic',\n",
        "                    'Inspection End Date', \n",
        "                    'Program Area',\n",
        "                    'Classification'])['Citations'].sum().reset_index()\n",
        "  df = df[df['Program Area'] != 'Other']\n",
        "  df.sort_values(by=['Inspection End Date'], inplace=True, ascending=True)\n",
        "  df = df.reset_index().drop('index', axis=1)\n",
        "  df = df.astype({'Citations':int})\n",
        "  return df"
      ],
      "execution_count": 10,
      "outputs": []
    },
    {
      "cell_type": "code",
      "metadata": {
        "id": "jJQBQPNAhTVw",
        "outputId": "f060b25a-fd06-4516-adcc-7ad0a8313e5e",
        "colab": {
          "base_uri": "https://localhost:8080/",
          "height": 419
        }
      },
      "source": [
        "count_citation(df)"
      ],
      "execution_count": 11,
      "outputs": [
        {
          "output_type": "execute_result",
          "data": {
            "text/html": [
              "<div>\n",
              "<style scoped>\n",
              "    .dataframe tbody tr th:only-of-type {\n",
              "        vertical-align: middle;\n",
              "    }\n",
              "\n",
              "    .dataframe tbody tr th {\n",
              "        vertical-align: top;\n",
              "    }\n",
              "\n",
              "    .dataframe thead th {\n",
              "        text-align: right;\n",
              "    }\n",
              "</style>\n",
              "<table border=\"1\" class=\"dataframe\">\n",
              "  <thead>\n",
              "    <tr style=\"text-align: right;\">\n",
              "      <th></th>\n",
              "      <th>Firm Name</th>\n",
              "      <th>Country</th>\n",
              "      <th>Region</th>\n",
              "      <th>Domestic</th>\n",
              "      <th>Inspection End Date</th>\n",
              "      <th>Program Area</th>\n",
              "      <th>Classification</th>\n",
              "      <th>Citations</th>\n",
              "    </tr>\n",
              "  </thead>\n",
              "  <tbody>\n",
              "    <tr>\n",
              "      <th>0</th>\n",
              "      <td>Pekana Naturheilmittel GmbH</td>\n",
              "      <td>Germany</td>\n",
              "      <td>EMEA</td>\n",
              "      <td>Foreign</td>\n",
              "      <td>2008-10-02</td>\n",
              "      <td>Drugs</td>\n",
              "      <td>VAI</td>\n",
              "      <td>3</td>\n",
              "    </tr>\n",
              "    <tr>\n",
              "      <th>1</th>\n",
              "      <td>EyeKon Medical, Inc.</td>\n",
              "      <td>United States</td>\n",
              "      <td>NA</td>\n",
              "      <td>Domestic</td>\n",
              "      <td>2008-10-03</td>\n",
              "      <td>Devices</td>\n",
              "      <td>NAI</td>\n",
              "      <td>0</td>\n",
              "    </tr>\n",
              "    <tr>\n",
              "      <th>2</th>\n",
              "      <td>EyeKon Medical, Inc.</td>\n",
              "      <td>United States</td>\n",
              "      <td>NA</td>\n",
              "      <td>Domestic</td>\n",
              "      <td>2008-10-03</td>\n",
              "      <td>Devices</td>\n",
              "      <td>OAI</td>\n",
              "      <td>13</td>\n",
              "    </tr>\n",
              "    <tr>\n",
              "      <th>3</th>\n",
              "      <td>Translite, LLC</td>\n",
              "      <td>United States</td>\n",
              "      <td>NA</td>\n",
              "      <td>Domestic</td>\n",
              "      <td>2008-10-03</td>\n",
              "      <td>Devices</td>\n",
              "      <td>VAI</td>\n",
              "      <td>3</td>\n",
              "    </tr>\n",
              "    <tr>\n",
              "      <th>4</th>\n",
              "      <td>Translite, LLC</td>\n",
              "      <td>United States</td>\n",
              "      <td>NA</td>\n",
              "      <td>Domestic</td>\n",
              "      <td>2008-10-03</td>\n",
              "      <td>Devices</td>\n",
              "      <td>NAI</td>\n",
              "      <td>0</td>\n",
              "    </tr>\n",
              "    <tr>\n",
              "      <th>...</th>\n",
              "      <td>...</td>\n",
              "      <td>...</td>\n",
              "      <td>...</td>\n",
              "      <td>...</td>\n",
              "      <td>...</td>\n",
              "      <td>...</td>\n",
              "      <td>...</td>\n",
              "      <td>...</td>\n",
              "    </tr>\n",
              "    <tr>\n",
              "      <th>22905</th>\n",
              "      <td>National Advanced Endoscopy Devices Inc</td>\n",
              "      <td>United States</td>\n",
              "      <td>NA</td>\n",
              "      <td>Domestic</td>\n",
              "      <td>2020-09-03</td>\n",
              "      <td>Devices</td>\n",
              "      <td>VAI</td>\n",
              "      <td>1</td>\n",
              "    </tr>\n",
              "    <tr>\n",
              "      <th>22906</th>\n",
              "      <td>J &amp; J Instruments, LLC</td>\n",
              "      <td>United States</td>\n",
              "      <td>NA</td>\n",
              "      <td>Domestic</td>\n",
              "      <td>2020-09-16</td>\n",
              "      <td>Devices</td>\n",
              "      <td>VAI</td>\n",
              "      <td>1</td>\n",
              "    </tr>\n",
              "    <tr>\n",
              "      <th>22907</th>\n",
              "      <td>J &amp; J Instruments, LLC</td>\n",
              "      <td>United States</td>\n",
              "      <td>NA</td>\n",
              "      <td>Domestic</td>\n",
              "      <td>2020-09-16</td>\n",
              "      <td>Devices</td>\n",
              "      <td>NAI</td>\n",
              "      <td>0</td>\n",
              "    </tr>\n",
              "    <tr>\n",
              "      <th>22908</th>\n",
              "      <td>Wayne County Chapter of NYARC</td>\n",
              "      <td>United States</td>\n",
              "      <td>NA</td>\n",
              "      <td>Domestic</td>\n",
              "      <td>2020-09-16</td>\n",
              "      <td>Drugs</td>\n",
              "      <td>VAI</td>\n",
              "      <td>6</td>\n",
              "    </tr>\n",
              "    <tr>\n",
              "      <th>22909</th>\n",
              "      <td>ConMed Corporation</td>\n",
              "      <td>United States</td>\n",
              "      <td>NA</td>\n",
              "      <td>Domestic</td>\n",
              "      <td>2020-09-22</td>\n",
              "      <td>Devices</td>\n",
              "      <td>VAI</td>\n",
              "      <td>2</td>\n",
              "    </tr>\n",
              "  </tbody>\n",
              "</table>\n",
              "<p>22910 rows × 8 columns</p>\n",
              "</div>"
            ],
            "text/plain": [
              "                                     Firm Name  ... Citations\n",
              "0                  Pekana Naturheilmittel GmbH  ...         3\n",
              "1                         EyeKon Medical, Inc.  ...         0\n",
              "2                         EyeKon Medical, Inc.  ...        13\n",
              "3                               Translite, LLC  ...         3\n",
              "4                               Translite, LLC  ...         0\n",
              "...                                        ...  ...       ...\n",
              "22905  National Advanced Endoscopy Devices Inc  ...         1\n",
              "22906                   J & J Instruments, LLC  ...         1\n",
              "22907                   J & J Instruments, LLC  ...         0\n",
              "22908            Wayne County Chapter of NYARC  ...         6\n",
              "22909                       ConMed Corporation  ...         2\n",
              "\n",
              "[22910 rows x 8 columns]"
            ]
          },
          "metadata": {
            "tags": []
          },
          "execution_count": 11
        }
      ]
    },
    {
      "cell_type": "code",
      "metadata": {
        "id": "D3nQi13XnA3A",
        "outputId": "7f767e10-68be-4e2a-b212-730f1c86cf98",
        "colab": {
          "base_uri": "https://localhost:8080/"
        }
      },
      "source": [
        "# Update dict if there are regions other than NA, EMEA, APAC, and LATAM\n",
        "\n",
        "count_citation(df)['Region'].value_counts(dropna=False)"
      ],
      "execution_count": 12,
      "outputs": [
        {
          "output_type": "execute_result",
          "data": {
            "text/plain": [
              "NA       19643\n",
              "EMEA      1823\n",
              "APAC      1336\n",
              "LATAM      108\n",
              "Name: Region, dtype: int64"
            ]
          },
          "metadata": {
            "tags": []
          },
          "execution_count": 12
        }
      ]
    },
    {
      "cell_type": "markdown",
      "metadata": {
        "id": "QfkFSKBbG9EK"
      },
      "source": [
        "#**4. Exploratory Data Analysis**"
      ]
    },
    {
      "cell_type": "code",
      "metadata": {
        "id": "Eqc9AVlbHBLu",
        "outputId": "8b733193-f183-448b-cada-25a02d955397",
        "colab": {
          "base_uri": "https://localhost:8080/",
          "height": 306
        }
      },
      "source": [
        "def prep_viz(df, start_date=False, encode_class=False):\n",
        "\n",
        "  \"\"\"Function prepares dataframe for data visualizations by filtering \n",
        "  date and encoding observation classification as needed\"\"\"\n",
        "\n",
        "  if start_date:\n",
        "    df = df[df['Inspection End Date'] >= start_date]\n",
        "  if encode_class:\n",
        "    df['Classification'] = df['Classification'].replace({'NAI':0,'VAI':1,'OAI':2})\n",
        "    df = df.astype({'Classification':int})\n",
        "  df.sort_values(by=['Inspection End Date'], inplace=True, ascending=True)\n",
        "  df = df.reset_index().drop('index', axis=1)\n",
        "  df['Year'] = df['Inspection End Date'].dt.year\n",
        "  return df\n",
        "\n",
        "prep_viz(count_citation(df), start_date='2015-01-01', encode_class=True).head()"
      ],
      "execution_count": 13,
      "outputs": [
        {
          "output_type": "stream",
          "text": [
            "/usr/local/lib/python3.6/dist-packages/ipykernel_launcher.py:9: SettingWithCopyWarning: \n",
            "A value is trying to be set on a copy of a slice from a DataFrame.\n",
            "Try using .loc[row_indexer,col_indexer] = value instead\n",
            "\n",
            "See the caveats in the documentation: https://pandas.pydata.org/pandas-docs/stable/user_guide/indexing.html#returning-a-view-versus-a-copy\n",
            "  if __name__ == '__main__':\n"
          ],
          "name": "stderr"
        },
        {
          "output_type": "execute_result",
          "data": {
            "text/html": [
              "<div>\n",
              "<style scoped>\n",
              "    .dataframe tbody tr th:only-of-type {\n",
              "        vertical-align: middle;\n",
              "    }\n",
              "\n",
              "    .dataframe tbody tr th {\n",
              "        vertical-align: top;\n",
              "    }\n",
              "\n",
              "    .dataframe thead th {\n",
              "        text-align: right;\n",
              "    }\n",
              "</style>\n",
              "<table border=\"1\" class=\"dataframe\">\n",
              "  <thead>\n",
              "    <tr style=\"text-align: right;\">\n",
              "      <th></th>\n",
              "      <th>Firm Name</th>\n",
              "      <th>Country</th>\n",
              "      <th>Region</th>\n",
              "      <th>Domestic</th>\n",
              "      <th>Inspection End Date</th>\n",
              "      <th>Program Area</th>\n",
              "      <th>Classification</th>\n",
              "      <th>Citations</th>\n",
              "      <th>Year</th>\n",
              "    </tr>\n",
              "  </thead>\n",
              "  <tbody>\n",
              "    <tr>\n",
              "      <th>0</th>\n",
              "      <td>ITxM Clinical Services</td>\n",
              "      <td>United States</td>\n",
              "      <td>NA</td>\n",
              "      <td>Domestic</td>\n",
              "      <td>2015-01-02</td>\n",
              "      <td>Biologics</td>\n",
              "      <td>1</td>\n",
              "      <td>3</td>\n",
              "      <td>2015</td>\n",
              "    </tr>\n",
              "    <tr>\n",
              "      <th>1</th>\n",
              "      <td>Brewer Company, LLC</td>\n",
              "      <td>United States</td>\n",
              "      <td>NA</td>\n",
              "      <td>Domestic</td>\n",
              "      <td>2015-01-05</td>\n",
              "      <td>Devices</td>\n",
              "      <td>1</td>\n",
              "      <td>6</td>\n",
              "      <td>2015</td>\n",
              "    </tr>\n",
              "    <tr>\n",
              "      <th>2</th>\n",
              "      <td>Arcet Equipment Company dba Arc3 Gases North</td>\n",
              "      <td>United States</td>\n",
              "      <td>NA</td>\n",
              "      <td>Domestic</td>\n",
              "      <td>2015-01-05</td>\n",
              "      <td>Drugs</td>\n",
              "      <td>1</td>\n",
              "      <td>1</td>\n",
              "      <td>2015</td>\n",
              "    </tr>\n",
              "    <tr>\n",
              "      <th>3</th>\n",
              "      <td>Bard Peripheral Vascular Inc</td>\n",
              "      <td>United States</td>\n",
              "      <td>NA</td>\n",
              "      <td>Domestic</td>\n",
              "      <td>2015-01-05</td>\n",
              "      <td>Devices</td>\n",
              "      <td>2</td>\n",
              "      <td>3</td>\n",
              "      <td>2015</td>\n",
              "    </tr>\n",
              "    <tr>\n",
              "      <th>4</th>\n",
              "      <td>Fisher Wallace Laboratories Inc.</td>\n",
              "      <td>United States</td>\n",
              "      <td>NA</td>\n",
              "      <td>Domestic</td>\n",
              "      <td>2015-01-06</td>\n",
              "      <td>Devices</td>\n",
              "      <td>0</td>\n",
              "      <td>0</td>\n",
              "      <td>2015</td>\n",
              "    </tr>\n",
              "  </tbody>\n",
              "</table>\n",
              "</div>"
            ],
            "text/plain": [
              "                                      Firm Name        Country  ... Citations  Year\n",
              "0                        ITxM Clinical Services  United States  ...         3  2015\n",
              "1                           Brewer Company, LLC  United States  ...         6  2015\n",
              "2  Arcet Equipment Company dba Arc3 Gases North  United States  ...         1  2015\n",
              "3                  Bard Peripheral Vascular Inc  United States  ...         3  2015\n",
              "4              Fisher Wallace Laboratories Inc.  United States  ...         0  2015\n",
              "\n",
              "[5 rows x 9 columns]"
            ]
          },
          "metadata": {
            "tags": []
          },
          "execution_count": 13
        }
      ]
    },
    {
      "cell_type": "code",
      "metadata": {
        "id": "cJwSad-9HBO0",
        "outputId": "30bbce6b-1830-4543-fadd-72bde9f8cfcc",
        "colab": {
          "base_uri": "https://localhost:8080/",
          "height": 330
        }
      },
      "source": [
        "# Foreign and Domestic Inspections\n",
        "\n",
        "data = prep_viz(count_citation(df), start_date='2008-01-01')\n",
        "data = data.groupby(['Year', 'Region']).count().reset_index()\n",
        "\n",
        "sns.set(style='darkgrid')\n",
        "g = sns.lineplot(x='Year',\n",
        "             y='Firm Name',\n",
        "             hue='Region',\n",
        "             data=data)\n",
        "g.text(x=2005.5, \n",
        "       y=2600, \n",
        "       s='Foreign and Domestic Inspections',\n",
        "       fontsize=20, \n",
        "       weight='bold', \n",
        "       alpha=.75)\n",
        "g.text(x=2005.5, \n",
        "       y=2350,\n",
        "       s='Foreign Inspections Increased 2011-2015 until MRA Operational 2016',\n",
        "       fontsize=12, \n",
        "       alpha=.85)\n",
        "plt.xlabel('Year')\n",
        "plt.ylabel('# Inspections')\n",
        "plt.show()\n",
        "\n",
        "# Inspections remain high in NA, but there is decreasing trend as FDA focuses on foreign inspections"
      ],
      "execution_count": 14,
      "outputs": [
        {
          "output_type": "display_data",
          "data": {
            "image/png": "[encoded data removed]",
            "text/plain": [
              "<Figure size 432x288 with 1 Axes>"
            ]
          },
          "metadata": {
            "tags": []
          }
        }
      ]
    },
    {
      "cell_type": "code",
      "metadata": {
        "id": "_HZJBivzHBR_",
        "outputId": "fba95b87-f5f4-4af0-965a-cdce45d457a6",
        "colab": {
          "base_uri": "https://localhost:8080/",
          "height": 328
        }
      },
      "source": [
        "# FDA Inspections by Classification\n",
        "\n",
        "data = prep_viz(count_citation(df))\n",
        "data = data.groupby(['Year', 'Classification']).count().reset_index()\n",
        "\n",
        "sns.set(style='darkgrid')\n",
        "g = sns.lineplot(x='Year',\n",
        "             y='Firm Name',\n",
        "             hue='Classification',\n",
        "             data=data)\n",
        "g.text(x=2005.5, \n",
        "       y=2050, \n",
        "       s='FDA Inspections by Classification',\n",
        "       fontsize=20, \n",
        "       weight='bold', \n",
        "       alpha=.75)\n",
        "g.text(x=2005.5, \n",
        "       y=1900,\n",
        "       s='OAI inspections remain low',\n",
        "       fontsize=12, \n",
        "       alpha=.85)\n",
        "plt.xlabel('Year')\n",
        "plt.ylabel('# Inspections')\n",
        "plt.show()\n",
        "\n",
        "# FDA classifies inspections as VAI more often than NAI, and classifies inspections NAI more often than OAI"
      ],
      "execution_count": 15,
      "outputs": [
        {
          "output_type": "display_data",
          "data": {
            "image/png": "[encoded data removed]",
            "text/plain": [
              "<Figure size 432x288 with 1 Axes>"
            ]
          },
          "metadata": {
            "tags": []
          }
        }
      ]
    },
    {
      "cell_type": "code",
      "metadata": {
        "id": "cUFto1I7HBUj",
        "outputId": "a763c4a7-5752-4ede-c7a3-3ecf0fc349ef",
        "colab": {
          "base_uri": "https://localhost:8080/",
          "height": 323
        }
      },
      "source": [
        "# FDA Inspections by Program Area\n",
        "\n",
        "data = prep_viz(count_citation(df))\n",
        "data = data.groupby(['Year', 'Program Area']).count().reset_index()\n",
        "\n",
        "sns.set(style='darkgrid')\n",
        "g = sns.lineplot(x='Year',\n",
        "             y='Firm Name',\n",
        "             hue='Program Area',\n",
        "             data=data)\n",
        "g.text(x=2005.5, \n",
        "       y=1600, \n",
        "       s='FDA Inspections by Program Area',\n",
        "       fontsize=20, \n",
        "       weight='bold', \n",
        "       alpha=.75)\n",
        "g.text(x=2005.5, \n",
        "       y=1490,\n",
        "       s='FDA inspects device manufacturers more frequently than others',\n",
        "       fontsize=12, \n",
        "       alpha=.85)\n",
        "g.legend(bbox_to_anchor=(1,1))\n",
        "plt.xlabel('Year')\n",
        "plt.ylabel('# Inspections')\n",
        "plt.show()\n",
        "\n",
        "# FDA inspects device manufacturers more often than drug manufacturers"
      ],
      "execution_count": 16,
      "outputs": [
        {
          "output_type": "display_data",
          "data": {
            "image/png": "[encoded data removed]",
            "text/plain": [
              "<Figure size 432x288 with 1 Axes>"
            ]
          },
          "metadata": {
            "tags": []
          }
        }
      ]
    },
    {
      "cell_type": "code",
      "metadata": {
        "id": "Ga8EVP_wHhx2",
        "outputId": "4288f086-632b-424e-c370-93629c50b1bf",
        "colab": {
          "base_uri": "https://localhost:8080/",
          "height": 518
        }
      },
      "source": [
        "# Boxenplot of FDA Citations by Classification\n",
        "\n",
        "data = prep_viz(count_citation(df))\n",
        "data = data[~(data['Classification'] == 'NAI')] # NAI classification = 0 citations\n",
        "\n",
        "f, ax = plt.subplots(figsize=(10,8))\n",
        "g = sns.boxenplot(x='Classification', \n",
        "              y='Citations', \n",
        "              hue='Program Area', \n",
        "              data=data)\n",
        "g.legend(bbox_to_anchor=(1,1))\n",
        "plt.title('FDA Citations by Classification')\n",
        "plt.show()\n",
        "\n",
        "# Inspections classified OAI have higher median citation counts than inspections classified VAI\n",
        "# However, there are notable outliers in VAI dataset where there are two inspections with more citations than any other inspection in the OAI dataset"
      ],
      "execution_count": 17,
      "outputs": [
        {
          "output_type": "display_data",
          "data": {
            "image/png": "[encoded data removed]",
            "text/plain": [
              "<Figure size 720x576 with 1 Axes>"
            ]
          },
          "metadata": {
            "tags": []
          }
        }
      ]
    },
    {
      "cell_type": "code",
      "metadata": {
        "id": "NVLBccecHh07",
        "outputId": "02e22978-63ec-4c09-d769-e75a9acda4f7",
        "colab": {
          "base_uri": "https://localhost:8080/",
          "height": 518
        }
      },
      "source": [
        "# Violinplot of FDA Citations by Program Area\n",
        "\n",
        "data = prep_viz(count_citation(df))\n",
        "data = data[~(data['Classification'] == 'NAI')] # NAI classification = 0 citations\n",
        "\n",
        "f, ax = plt.subplots(figsize=(10,8))\n",
        "g = sns.violinplot(x='Program Area', y='Citations', hue='Classification',\n",
        "                    data=data, palette='deep', split=True,\n",
        "                    scale='count', inner='quartile')\n",
        "g.legend(bbox_to_anchor=(1,1))\n",
        "plt.title('FDA Citations by Program Area')\n",
        "plt.show()\n",
        "\n",
        "# In all programs, citations in VAI dataset is skewed left (which consumers want) while citations in OAI are more normal but more variance"
      ],
      "execution_count": 18,
      "outputs": [
        {
          "output_type": "display_data",
          "data": {
            "image/png": "[encoded data removed]",
            "text/plain": [
              "<Figure size 720x576 with 1 Axes>"
            ]
          },
          "metadata": {
            "tags": []
          }
        }
      ]
    },
    {
      "cell_type": "markdown",
      "metadata": {
        "id": "yPTLbCY1Mh7h"
      },
      "source": [
        "#**5. Cluster Analysis**"
      ]
    },
    {
      "cell_type": "markdown",
      "metadata": {
        "id": "tXmkqFpnM12W"
      },
      "source": [
        "Uniform Manifold Approximation and Projection (UMAP) is used to qualitatively determine K, and KPrototypes to cluster the inspections data containing mixed type data."
      ]
    },
    {
      "cell_type": "markdown",
      "metadata": {
        "id": "SGmERU14lBl1"
      },
      "source": [
        "###**5.1. UMAP**"
      ]
    },
    {
      "cell_type": "markdown",
      "metadata": {
        "id": "pwV6EteHPkzj"
      },
      "source": [
        "We use UMAP to visualize and compare clusters by embedding high-dimensional data into two dimensions similar to PCA and t-SNE. Here is the procedure:\n",
        "\n",
        "1.   Split features into numeric and categorical\n",
        "2.   Apply PowerTransformer() to numeric features and one-hot encoding to categorical features\n",
        "3.   Embed features separately using different metrics: 'l2' for numeric and 'dice' for categorical\n",
        "4.   Combine embeddings as suggested [here](https://github.com/lmcinnes/umap/issues/58#issuecomment-419682509)\n",
        "\n",
        "Inspiration comes from [Antons Ruberts](https://github.com/AntonsRuberts)"
      ]
    },
    {
      "cell_type": "code",
      "metadata": {
        "id": "1RPjGPyUl0Jn"
      },
      "source": [
        "# Final feature selection\n",
        "final_data = count_citation(df).drop(columns=['Inspection End Date','Domestic',\n",
        "                                              'Firm Name','Country'])"
      ],
      "execution_count": 19,
      "outputs": []
    },
    {
      "cell_type": "code",
      "metadata": {
        "id": "xwJLo2CPqUa6",
        "outputId": "e9f3794a-8884-49ce-beec-b590c8d7f5a0",
        "colab": {
          "base_uri": "https://localhost:8080/"
        }
      },
      "source": [
        "# Preprocess numeric features\n",
        "num_cols = final_data.select_dtypes(exclude='object')\n",
        "for col in num_cols.columns:\n",
        "  pt = PowerTransformer() # Transforms datapoints for Gaussian-like distribution\n",
        "  num_cols.loc[:, col] = pt.fit_transform(np.array(num_cols[col]).reshape(-1, 1))\n",
        "    \n",
        "# Preprocess categorical features\n",
        "cat_cols = final_data.select_dtypes(include='object')\n",
        "cat_cols = pd.get_dummies(cat_cols)"
      ],
      "execution_count": 20,
      "outputs": [
        {
          "output_type": "stream",
          "text": [
            "/usr/local/lib/python3.6/dist-packages/pandas/core/indexing.py:1734: SettingWithCopyWarning: \n",
            "A value is trying to be set on a copy of a slice from a DataFrame.\n",
            "Try using .loc[row_indexer,col_indexer] = value instead\n",
            "\n",
            "See the caveats in the documentation: https://pandas.pydata.org/pandas-docs/stable/user_guide/indexing.html#returning-a-view-versus-a-copy\n",
            "  isetter(loc, value[:, i].tolist())\n"
          ],
          "name": "stderr"
        }
      ]
    },
    {
      "cell_type": "code",
      "metadata": {
        "id": "-ZFgS3obqrrR",
        "outputId": "53114d12-37ac-43f0-f047-0391eedb8d8b",
        "colab": {
          "base_uri": "https://localhost:8080/"
        }
      },
      "source": [
        "# Percentage of categorical columns is used as weight parameter\n",
        "categorical_weight = len(final_data.select_dtypes(include='object').columns) / final_data.shape[1]\n",
        "\n",
        "# Instantiate UMAP objects and fit to data\n",
        "umap_num = umap_.UMAP(metric='l2')\n",
        "mapper1 = umap_num.fit(num_cols)\n",
        "umap_cat = umap_.UMAP(metric='dice')\n",
        "mapper2 = umap_cat.fit(cat_cols)"
      ],
      "execution_count": 21,
      "outputs": [
        {
          "output_type": "stream",
          "text": [
            "/usr/local/lib/python3.6/dist-packages/umap/umap_.py:1530: UserWarning: gradient function is not yet implemented for dice distance metric; inverse_transform will be unavailable\n",
            "  \"inverse_transform will be unavailable\".format(self.metric)\n"
          ],
          "name": "stderr"
        }
      ]
    },
    {
      "cell_type": "code",
      "metadata": {
        "id": "1A4j6HXRlEvi",
        "outputId": "d00a680b-34df-431e-9749-2585fa1c01e8",
        "colab": {
          "base_uri": "https://localhost:8080/",
          "height": 594
        }
      },
      "source": [
        "# Combine the numeric and categorical embeddings\n",
        "intersection = umap.umap_.general_simplicial_set_intersection(mapper1.graph_, \n",
        "                                                              mapper2.graph_, \n",
        "                                                              weight=categorical_weight)\n",
        "intersection = umap.umap_.reset_local_connectivity(intersection)\n",
        "embedding = umap.umap_.simplicial_set_embedding(mapper1._raw_data, intersection, \n",
        "                                                mapper1.n_components, \n",
        "                                                mapper1._initial_alpha, \n",
        "                                                mapper1._a, mapper1._b, \n",
        "                                                mapper1.repulsion_strength, \n",
        "                                                mapper1.negative_sample_rate, \n",
        "                                                200, 'random', np.random, \n",
        "                                                mapper1.metric, mapper1._metric_kwds, False)\n",
        "\n",
        "# Plot UMAP embeddings\n",
        "plt.figure(figsize=(20, 10))\n",
        "plt.scatter(*embedding.T, s=2, cmap='Spectral', alpha=1.0)\n",
        "plt.show()"
      ],
      "execution_count": 22,
      "outputs": [
        {
          "output_type": "display_data",
          "data": {
            "image/png": "[encoded data removed]",
            "text/plain": [
              "<Figure size 1440x720 with 1 Axes>"
            ]
          },
          "metadata": {
            "tags": []
          }
        }
      ]
    },
    {
      "cell_type": "code",
      "metadata": {
        "id": "kBrcUQHpCmBb"
      },
      "source": [
        "# Select optimal K from UMAP scatterplot\n",
        "K_umap = 13"
      ],
      "execution_count": 23,
      "outputs": []
    },
    {
      "cell_type": "markdown",
      "metadata": {
        "id": "zDhUwWOVrMmc"
      },
      "source": [
        "###**5.2. K-Prototype Clustering**"
      ]
    },
    {
      "cell_type": "markdown",
      "metadata": {
        "id": "SHLV2hzKUiN7"
      },
      "source": [
        "We use K-Prototypes, not K-Modes or K-Means, to accommodate mixed type data (numeric and categorical). K-Prototypes implementation (KPrototypes) by KModes can accept object values directly without the need for encoding (one-hot, label, etc). However, it is important to explicitly identify categorical columns in the parameter."
      ]
    },
    {
      "cell_type": "code",
      "metadata": {
        "id": "UfZU6AiGsHQG"
      },
      "source": [
        "def feature_index(df, select_dtype='int'):\n",
        "  \"\"\"Returns list of indices by dataframe column dtype\n",
        "  Inputs:\n",
        "    df = dataframe\n",
        "    select_dtype = 'int' for numeric columns or 'object' for categorical columns\n",
        "      default is 'int'\n",
        "  Output: list object of dataframe indices\"\"\"\n",
        "  df_new = (df.dtypes.to_frame().reset_index()\n",
        "           ).rename(columns={'index':'feature', 0:'dtype'})\n",
        "  if select_dtype == 'int':\n",
        "    feature_index = list(df_new[df_new['dtype'] == 'int'].index)\n",
        "  if select_dtype == 'object':\n",
        "    feature_index = list(df_new[df_new['dtype'] == 'object'].index)\n",
        "  return feature_index"
      ],
      "execution_count": 24,
      "outputs": []
    },
    {
      "cell_type": "code",
      "metadata": {
        "id": "LCQOKdYVlEyd",
        "outputId": "7c825d55-3bd2-4630-b4fe-d5208e4c3828",
        "colab": {
          "base_uri": "https://localhost:8080/",
          "height": 419
        }
      },
      "source": [
        "df_kproto = final_data.copy()\n",
        "\n",
        "# Preprocess numeric features\n",
        "for col in df_kproto.select_dtypes(exclude='object').columns:\n",
        "  pt = PowerTransformer()\n",
        "  df_kproto[col] =  pt.fit_transform(np.array(df_kproto[col]).reshape(-1, 1))\n",
        "\n",
        "# K-Prototype clustering\n",
        "kproto = KPrototypes(n_clusters=K_umap, init='Cao', n_jobs=-1)\n",
        "clusters = kproto.fit_predict(df_kproto, categorical=feature_index(df_kproto, select_dtype='object'))\n",
        "\n",
        "# Assign cluster label to dataframe\n",
        "df_kproto['Cluster'] = kproto.labels_\n",
        "df_kproto"
      ],
      "execution_count": 25,
      "outputs": [
        {
          "output_type": "execute_result",
          "data": {
            "text/html": [
              "<div>\n",
              "<style scoped>\n",
              "    .dataframe tbody tr th:only-of-type {\n",
              "        vertical-align: middle;\n",
              "    }\n",
              "\n",
              "    .dataframe tbody tr th {\n",
              "        vertical-align: top;\n",
              "    }\n",
              "\n",
              "    .dataframe thead th {\n",
              "        text-align: right;\n",
              "    }\n",
              "</style>\n",
              "<table border=\"1\" class=\"dataframe\">\n",
              "  <thead>\n",
              "    <tr style=\"text-align: right;\">\n",
              "      <th></th>\n",
              "      <th>Region</th>\n",
              "      <th>Program Area</th>\n",
              "      <th>Classification</th>\n",
              "      <th>Citations</th>\n",
              "      <th>Cluster</th>\n",
              "    </tr>\n",
              "  </thead>\n",
              "  <tbody>\n",
              "    <tr>\n",
              "      <th>0</th>\n",
              "      <td>EMEA</td>\n",
              "      <td>Drugs</td>\n",
              "      <td>VAI</td>\n",
              "      <td>0.217412</td>\n",
              "      <td>1</td>\n",
              "    </tr>\n",
              "    <tr>\n",
              "      <th>1</th>\n",
              "      <td>NA</td>\n",
              "      <td>Devices</td>\n",
              "      <td>NAI</td>\n",
              "      <td>-1.537548</td>\n",
              "      <td>11</td>\n",
              "    </tr>\n",
              "    <tr>\n",
              "      <th>2</th>\n",
              "      <td>NA</td>\n",
              "      <td>Devices</td>\n",
              "      <td>OAI</td>\n",
              "      <td>1.848533</td>\n",
              "      <td>6</td>\n",
              "    </tr>\n",
              "    <tr>\n",
              "      <th>3</th>\n",
              "      <td>NA</td>\n",
              "      <td>Devices</td>\n",
              "      <td>VAI</td>\n",
              "      <td>0.217412</td>\n",
              "      <td>9</td>\n",
              "    </tr>\n",
              "    <tr>\n",
              "      <th>4</th>\n",
              "      <td>NA</td>\n",
              "      <td>Devices</td>\n",
              "      <td>NAI</td>\n",
              "      <td>-1.537548</td>\n",
              "      <td>11</td>\n",
              "    </tr>\n",
              "    <tr>\n",
              "      <th>...</th>\n",
              "      <td>...</td>\n",
              "      <td>...</td>\n",
              "      <td>...</td>\n",
              "      <td>...</td>\n",
              "      <td>...</td>\n",
              "    </tr>\n",
              "    <tr>\n",
              "      <th>22905</th>\n",
              "      <td>NA</td>\n",
              "      <td>Devices</td>\n",
              "      <td>VAI</td>\n",
              "      <td>-0.666547</td>\n",
              "      <td>10</td>\n",
              "    </tr>\n",
              "    <tr>\n",
              "      <th>22906</th>\n",
              "      <td>NA</td>\n",
              "      <td>Devices</td>\n",
              "      <td>VAI</td>\n",
              "      <td>-0.666547</td>\n",
              "      <td>10</td>\n",
              "    </tr>\n",
              "    <tr>\n",
              "      <th>22907</th>\n",
              "      <td>NA</td>\n",
              "      <td>Devices</td>\n",
              "      <td>NAI</td>\n",
              "      <td>-1.537548</td>\n",
              "      <td>11</td>\n",
              "    </tr>\n",
              "    <tr>\n",
              "      <th>22908</th>\n",
              "      <td>NA</td>\n",
              "      <td>Drugs</td>\n",
              "      <td>VAI</td>\n",
              "      <td>0.940665</td>\n",
              "      <td>4</td>\n",
              "    </tr>\n",
              "    <tr>\n",
              "      <th>22909</th>\n",
              "      <td>NA</td>\n",
              "      <td>Devices</td>\n",
              "      <td>VAI</td>\n",
              "      <td>-0.151050</td>\n",
              "      <td>10</td>\n",
              "    </tr>\n",
              "  </tbody>\n",
              "</table>\n",
              "<p>22910 rows × 5 columns</p>\n",
              "</div>"
            ],
            "text/plain": [
              "      Region Program Area Classification  Citations  Cluster\n",
              "0       EMEA        Drugs            VAI   0.217412        1\n",
              "1         NA      Devices            NAI  -1.537548       11\n",
              "2         NA      Devices            OAI   1.848533        6\n",
              "3         NA      Devices            VAI   0.217412        9\n",
              "4         NA      Devices            NAI  -1.537548       11\n",
              "...      ...          ...            ...        ...      ...\n",
              "22905     NA      Devices            VAI  -0.666547       10\n",
              "22906     NA      Devices            VAI  -0.666547       10\n",
              "22907     NA      Devices            NAI  -1.537548       11\n",
              "22908     NA        Drugs            VAI   0.940665        4\n",
              "22909     NA      Devices            VAI  -0.151050       10\n",
              "\n",
              "[22910 rows x 5 columns]"
            ]
          },
          "metadata": {
            "tags": []
          },
          "execution_count": 25
        }
      ]
    },
    {
      "cell_type": "code",
      "metadata": {
        "id": "Bp9G9NMltaQk",
        "outputId": "842f16e5-edfe-4856-ca15-ac1cf2e0b4df",
        "colab": {
          "base_uri": "https://localhost:8080/",
          "height": 594
        }
      },
      "source": [
        "fig, ax = plt.subplots()\n",
        "fig.set_size_inches((20, 10))\n",
        "scatter = ax.scatter(embedding[:, 0], embedding[:, 1], s=2, \n",
        "                     c=clusters, cmap='tab20b', alpha=1.0)\n",
        "legend = ax.legend(*scatter.legend_elements(num=K_umap),\n",
        "                    loc='lower left', title='Classes')\n",
        "ax.add_artist(legend)\n",
        "plt.show()"
      ],
      "execution_count": 26,
      "outputs": [
        {
          "output_type": "display_data",
          "data": {
            "image/png": "[encoded data removed]",
            "text/plain": [
              "<Figure size 1440x720 with 1 Axes>"
            ]
          },
          "metadata": {
            "tags": []
          }
        }
      ]
    },
    {
      "cell_type": "markdown",
      "metadata": {
        "id": "4UuSqiS4YIIY"
      },
      "source": [
        "###**5.3. Explore Clusters**"
      ]
    },
    {
      "cell_type": "markdown",
      "metadata": {
        "id": "4kYLl4aYYTXW"
      },
      "source": [
        "After assiging inspections to clusters, we visually explore characteristics of each cluster"
      ]
    },
    {
      "cell_type": "code",
      "metadata": {
        "id": "saMU5txcXsdC",
        "outputId": "4dc484b8-f178-4ed0-80aa-a1519e8e9780",
        "colab": {
          "base_uri": "https://localhost:8080/",
          "height": 1000
        }
      },
      "source": [
        "def cluster_summary_plot(df, feature):\n",
        "  plt.subplots(figsize = (15,5))\n",
        "  sns.countplot(x=df[feature], \n",
        "                order=df[feature].value_counts().index, \n",
        "                hue=df['Cluster'])\n",
        "  plt.title(f'Clusters by {feature}')\n",
        "  plt.show()\n",
        "\n",
        "for col in [col for col in list(df_kproto.columns) if col not in ['Cluster', 'Citations']]:\n",
        "  cluster_summary_plot(df_kproto, feature=col)"
      ],
      "execution_count": 27,
      "outputs": [
        {
          "output_type": "display_data",
          "data": {
            "image/png": "[encoded data removed]",
            "text/plain": [
              "<Figure size 1080x360 with 1 Axes>"
            ]
          },
          "metadata": {
            "tags": []
          }
        },
        {
          "output_type": "display_data",
          "data": {
            "image/png": "[encoded data removed]",
            "text/plain": [
              "<Figure size 1080x360 with 1 Axes>"
            ]
          },
          "metadata": {
            "tags": []
          }
        },
        {
          "output_type": "display_data",
          "data": {
            "image/png": "[encoded data removed]",
            "text/plain": [
              "<Figure size 1080x360 with 1 Axes>"
            ]
          },
          "metadata": {
            "tags": []
          }
        }
      ]
    },
    {
      "cell_type": "code",
      "metadata": {
        "id": "x4OfJAyPMtK7",
        "outputId": "723a52ad-d255-490d-d919-2746b61382aa",
        "colab": {
          "base_uri": "https://localhost:8080/",
          "height": 271
        }
      },
      "source": [
        "(pd.get_dummies(df_kproto)\n",
        "   .groupby('Cluster')\n",
        "   .mean()\n",
        "   .T\n",
        "   .style.background_gradient(cmap='viridis', axis=1)\n",
        ")"
      ],
      "execution_count": 28,
      "outputs": [
        {
          "output_type": "execute_result",
          "data": {
            "text/html": [
              "<style  type=\"text/css\" >\n",
              "#T_f7f6c1a6_28ac_11eb_815b_0242ac1c0002row0_col0,#T_f7f6c1a6_28ac_11eb_815b_0242ac1c0002row1_col12,#T_f7f6c1a6_28ac_11eb_815b_0242ac1c0002row2_col12,#T_f7f6c1a6_28ac_11eb_815b_0242ac1c0002row3_col12,#T_f7f6c1a6_28ac_11eb_815b_0242ac1c0002row4_col7,#T_f7f6c1a6_28ac_11eb_815b_0242ac1c0002row5_col7,#T_f7f6c1a6_28ac_11eb_815b_0242ac1c0002row6_col10,#T_f7f6c1a6_28ac_11eb_815b_0242ac1c0002row6_col11,#T_f7f6c1a6_28ac_11eb_815b_0242ac1c0002row7_col1,#T_f7f6c1a6_28ac_11eb_815b_0242ac1c0002row7_col2,#T_f7f6c1a6_28ac_11eb_815b_0242ac1c0002row8_col5,#T_f7f6c1a6_28ac_11eb_815b_0242ac1c0002row8_col11,#T_f7f6c1a6_28ac_11eb_815b_0242ac1c0002row9_col3,#T_f7f6c1a6_28ac_11eb_815b_0242ac1c0002row9_col6,#T_f7f6c1a6_28ac_11eb_815b_0242ac1c0002row10_col0,#T_f7f6c1a6_28ac_11eb_815b_0242ac1c0002row10_col8{\n",
              "            background-color:  #fde725;\n",
              "            color:  #000000;\n",
              "        }#T_f7f6c1a6_28ac_11eb_815b_0242ac1c0002row0_col1{\n",
              "            background-color:  #238a8d;\n",
              "            color:  #000000;\n",
              "        }#T_f7f6c1a6_28ac_11eb_815b_0242ac1c0002row0_col2{\n",
              "            background-color:  #39558c;\n",
              "            color:  #f1f1f1;\n",
              "        }#T_f7f6c1a6_28ac_11eb_815b_0242ac1c0002row0_col3{\n",
              "            background-color:  #dfe318;\n",
              "            color:  #000000;\n",
              "        }#T_f7f6c1a6_28ac_11eb_815b_0242ac1c0002row0_col4{\n",
              "            background-color:  #48c16e;\n",
              "            color:  #000000;\n",
              "        }#T_f7f6c1a6_28ac_11eb_815b_0242ac1c0002row0_col5,#T_f7f6c1a6_28ac_11eb_815b_0242ac1c0002row0_col11,#T_f7f6c1a6_28ac_11eb_815b_0242ac1c0002row1_col7,#T_f7f6c1a6_28ac_11eb_815b_0242ac1c0002row2_col10,#T_f7f6c1a6_28ac_11eb_815b_0242ac1c0002row3_col5,#T_f7f6c1a6_28ac_11eb_815b_0242ac1c0002row3_col7,#T_f7f6c1a6_28ac_11eb_815b_0242ac1c0002row4_col12,#T_f7f6c1a6_28ac_11eb_815b_0242ac1c0002row5_col1,#T_f7f6c1a6_28ac_11eb_815b_0242ac1c0002row5_col2,#T_f7f6c1a6_28ac_11eb_815b_0242ac1c0002row5_col10,#T_f7f6c1a6_28ac_11eb_815b_0242ac1c0002row5_col11,#T_f7f6c1a6_28ac_11eb_815b_0242ac1c0002row6_col1,#T_f7f6c1a6_28ac_11eb_815b_0242ac1c0002row6_col2,#T_f7f6c1a6_28ac_11eb_815b_0242ac1c0002row6_col4,#T_f7f6c1a6_28ac_11eb_815b_0242ac1c0002row6_col5,#T_f7f6c1a6_28ac_11eb_815b_0242ac1c0002row6_col7,#T_f7f6c1a6_28ac_11eb_815b_0242ac1c0002row7_col6,#T_f7f6c1a6_28ac_11eb_815b_0242ac1c0002row7_col7,#T_f7f6c1a6_28ac_11eb_815b_0242ac1c0002row7_col8,#T_f7f6c1a6_28ac_11eb_815b_0242ac1c0002row7_col9,#T_f7f6c1a6_28ac_11eb_815b_0242ac1c0002row7_col10,#T_f7f6c1a6_28ac_11eb_815b_0242ac1c0002row7_col11,#T_f7f6c1a6_28ac_11eb_815b_0242ac1c0002row8_col0,#T_f7f6c1a6_28ac_11eb_815b_0242ac1c0002row8_col1,#T_f7f6c1a6_28ac_11eb_815b_0242ac1c0002row8_col2,#T_f7f6c1a6_28ac_11eb_815b_0242ac1c0002row8_col3,#T_f7f6c1a6_28ac_11eb_815b_0242ac1c0002row8_col4,#T_f7f6c1a6_28ac_11eb_815b_0242ac1c0002row8_col6,#T_f7f6c1a6_28ac_11eb_815b_0242ac1c0002row8_col7,#T_f7f6c1a6_28ac_11eb_815b_0242ac1c0002row8_col8,#T_f7f6c1a6_28ac_11eb_815b_0242ac1c0002row8_col9,#T_f7f6c1a6_28ac_11eb_815b_0242ac1c0002row8_col10,#T_f7f6c1a6_28ac_11eb_815b_0242ac1c0002row8_col12,#T_f7f6c1a6_28ac_11eb_815b_0242ac1c0002row9_col0,#T_f7f6c1a6_28ac_11eb_815b_0242ac1c0002row9_col5,#T_f7f6c1a6_28ac_11eb_815b_0242ac1c0002row9_col8,#T_f7f6c1a6_28ac_11eb_815b_0242ac1c0002row9_col11,#T_f7f6c1a6_28ac_11eb_815b_0242ac1c0002row10_col3,#T_f7f6c1a6_28ac_11eb_815b_0242ac1c0002row10_col5,#T_f7f6c1a6_28ac_11eb_815b_0242ac1c0002row10_col6,#T_f7f6c1a6_28ac_11eb_815b_0242ac1c0002row10_col11{\n",
              "            background-color:  #440154;\n",
              "            color:  #f1f1f1;\n",
              "        }#T_f7f6c1a6_28ac_11eb_815b_0242ac1c0002row0_col6{\n",
              "            background-color:  #8bd646;\n",
              "            color:  #000000;\n",
              "        }#T_f7f6c1a6_28ac_11eb_815b_0242ac1c0002row0_col7,#T_f7f6c1a6_28ac_11eb_815b_0242ac1c0002row1_col2{\n",
              "            background-color:  #2d708e;\n",
              "            color:  #f1f1f1;\n",
              "        }#T_f7f6c1a6_28ac_11eb_815b_0242ac1c0002row0_col8{\n",
              "            background-color:  #8ed645;\n",
              "            color:  #000000;\n",
              "        }#T_f7f6c1a6_28ac_11eb_815b_0242ac1c0002row0_col9{\n",
              "            background-color:  #22a884;\n",
              "            color:  #000000;\n",
              "        }#T_f7f6c1a6_28ac_11eb_815b_0242ac1c0002row0_col10,#T_f7f6c1a6_28ac_11eb_815b_0242ac1c0002row3_col2{\n",
              "            background-color:  #306a8e;\n",
              "            color:  #f1f1f1;\n",
              "        }#T_f7f6c1a6_28ac_11eb_815b_0242ac1c0002row0_col12,#T_f7f6c1a6_28ac_11eb_815b_0242ac1c0002row3_col9{\n",
              "            background-color:  #26818e;\n",
              "            color:  #000000;\n",
              "        }#T_f7f6c1a6_28ac_11eb_815b_0242ac1c0002row1_col0{\n",
              "            background-color:  #20928c;\n",
              "            color:  #000000;\n",
              "        }#T_f7f6c1a6_28ac_11eb_815b_0242ac1c0002row1_col1{\n",
              "            background-color:  #1f988b;\n",
              "            color:  #000000;\n",
              "        }#T_f7f6c1a6_28ac_11eb_815b_0242ac1c0002row1_col3{\n",
              "            background-color:  #46c06f;\n",
              "            color:  #000000;\n",
              "        }#T_f7f6c1a6_28ac_11eb_815b_0242ac1c0002row1_col4{\n",
              "            background-color:  #26ad81;\n",
              "            color:  #000000;\n",
              "        }#T_f7f6c1a6_28ac_11eb_815b_0242ac1c0002row1_col5{\n",
              "            background-color:  #46337f;\n",
              "            color:  #f1f1f1;\n",
              "        }#T_f7f6c1a6_28ac_11eb_815b_0242ac1c0002row1_col6{\n",
              "            background-color:  #93d741;\n",
              "            color:  #000000;\n",
              "        }#T_f7f6c1a6_28ac_11eb_815b_0242ac1c0002row1_col8{\n",
              "            background-color:  #32658e;\n",
              "            color:  #f1f1f1;\n",
              "        }#T_f7f6c1a6_28ac_11eb_815b_0242ac1c0002row1_col9{\n",
              "            background-color:  #29798e;\n",
              "            color:  #000000;\n",
              "        }#T_f7f6c1a6_28ac_11eb_815b_0242ac1c0002row1_col10{\n",
              "            background-color:  #423f85;\n",
              "            color:  #f1f1f1;\n",
              "        }#T_f7f6c1a6_28ac_11eb_815b_0242ac1c0002row1_col11{\n",
              "            background-color:  #32648e;\n",
              "            color:  #f1f1f1;\n",
              "        }#T_f7f6c1a6_28ac_11eb_815b_0242ac1c0002row2_col0{\n",
              "            background-color:  #481b6d;\n",
              "            color:  #f1f1f1;\n",
              "        }#T_f7f6c1a6_28ac_11eb_815b_0242ac1c0002row2_col1{\n",
              "            background-color:  #481769;\n",
              "            color:  #f1f1f1;\n",
              "        }#T_f7f6c1a6_28ac_11eb_815b_0242ac1c0002row2_col2,#T_f7f6c1a6_28ac_11eb_815b_0242ac1c0002row2_col4{\n",
              "            background-color:  #482677;\n",
              "            color:  #f1f1f1;\n",
              "        }#T_f7f6c1a6_28ac_11eb_815b_0242ac1c0002row2_col3{\n",
              "            background-color:  #481467;\n",
              "            color:  #f1f1f1;\n",
              "        }#T_f7f6c1a6_28ac_11eb_815b_0242ac1c0002row2_col5,#T_f7f6c1a6_28ac_11eb_815b_0242ac1c0002row9_col2{\n",
              "            background-color:  #46085c;\n",
              "            color:  #f1f1f1;\n",
              "        }#T_f7f6c1a6_28ac_11eb_815b_0242ac1c0002row2_col6{\n",
              "            background-color:  #472d7b;\n",
              "            color:  #f1f1f1;\n",
              "        }#T_f7f6c1a6_28ac_11eb_815b_0242ac1c0002row2_col7,#T_f7f6c1a6_28ac_11eb_815b_0242ac1c0002row5_col12,#T_f7f6c1a6_28ac_11eb_815b_0242ac1c0002row9_col7{\n",
              "            background-color:  #440256;\n",
              "            color:  #f1f1f1;\n",
              "        }#T_f7f6c1a6_28ac_11eb_815b_0242ac1c0002row2_col8,#T_f7f6c1a6_28ac_11eb_815b_0242ac1c0002row2_col11{\n",
              "            background-color:  #481c6e;\n",
              "            color:  #f1f1f1;\n",
              "        }#T_f7f6c1a6_28ac_11eb_815b_0242ac1c0002row2_col9,#T_f7f6c1a6_28ac_11eb_815b_0242ac1c0002row5_col8,#T_f7f6c1a6_28ac_11eb_815b_0242ac1c0002row9_col9{\n",
              "            background-color:  #460a5d;\n",
              "            color:  #f1f1f1;\n",
              "        }#T_f7f6c1a6_28ac_11eb_815b_0242ac1c0002row3_col0{\n",
              "            background-color:  #2a768e;\n",
              "            color:  #f1f1f1;\n",
              "        }#T_f7f6c1a6_28ac_11eb_815b_0242ac1c0002row3_col1{\n",
              "            background-color:  #3bbb75;\n",
              "            color:  #000000;\n",
              "        }#T_f7f6c1a6_28ac_11eb_815b_0242ac1c0002row3_col3{\n",
              "            background-color:  #c8e020;\n",
              "            color:  #000000;\n",
              "        }#T_f7f6c1a6_28ac_11eb_815b_0242ac1c0002row3_col4{\n",
              "            background-color:  #6ece58;\n",
              "            color:  #000000;\n",
              "        }#T_f7f6c1a6_28ac_11eb_815b_0242ac1c0002row3_col6{\n",
              "            background-color:  #35b779;\n",
              "            color:  #000000;\n",
              "        }#T_f7f6c1a6_28ac_11eb_815b_0242ac1c0002row3_col8{\n",
              "            background-color:  #453581;\n",
              "            color:  #f1f1f1;\n",
              "        }#T_f7f6c1a6_28ac_11eb_815b_0242ac1c0002row3_col10{\n",
              "            background-color:  #433d84;\n",
              "            color:  #f1f1f1;\n",
              "        }#T_f7f6c1a6_28ac_11eb_815b_0242ac1c0002row3_col11{\n",
              "            background-color:  #46327e;\n",
              "            color:  #f1f1f1;\n",
              "        }#T_f7f6c1a6_28ac_11eb_815b_0242ac1c0002row4_col0,#T_f7f6c1a6_28ac_11eb_815b_0242ac1c0002row4_col1{\n",
              "            background-color:  #aadc32;\n",
              "            color:  #000000;\n",
              "        }#T_f7f6c1a6_28ac_11eb_815b_0242ac1c0002row4_col2{\n",
              "            background-color:  #a2da37;\n",
              "            color:  #000000;\n",
              "        }#T_f7f6c1a6_28ac_11eb_815b_0242ac1c0002row4_col3{\n",
              "            background-color:  #a0da39;\n",
              "            color:  #000000;\n",
              "        }#T_f7f6c1a6_28ac_11eb_815b_0242ac1c0002row4_col4{\n",
              "            background-color:  #89d548;\n",
              "            color:  #000000;\n",
              "        }#T_f7f6c1a6_28ac_11eb_815b_0242ac1c0002row4_col5,#T_f7f6c1a6_28ac_11eb_815b_0242ac1c0002row6_col9,#T_f7f6c1a6_28ac_11eb_815b_0242ac1c0002row10_col10{\n",
              "            background-color:  #eae51a;\n",
              "            color:  #000000;\n",
              "        }#T_f7f6c1a6_28ac_11eb_815b_0242ac1c0002row4_col6{\n",
              "            background-color:  #6ccd5a;\n",
              "            color:  #000000;\n",
              "        }#T_f7f6c1a6_28ac_11eb_815b_0242ac1c0002row4_col8,#T_f7f6c1a6_28ac_11eb_815b_0242ac1c0002row4_col11{\n",
              "            background-color:  #bade28;\n",
              "            color:  #000000;\n",
              "        }#T_f7f6c1a6_28ac_11eb_815b_0242ac1c0002row4_col9{\n",
              "            background-color:  #d0e11c;\n",
              "            color:  #000000;\n",
              "        }#T_f7f6c1a6_28ac_11eb_815b_0242ac1c0002row4_col10,#T_f7f6c1a6_28ac_11eb_815b_0242ac1c0002row10_col2{\n",
              "            background-color:  #f1e51d;\n",
              "            color:  #000000;\n",
              "        }#T_f7f6c1a6_28ac_11eb_815b_0242ac1c0002row5_col0{\n",
              "            background-color:  #46075a;\n",
              "            color:  #f1f1f1;\n",
              "        }#T_f7f6c1a6_28ac_11eb_815b_0242ac1c0002row5_col3,#T_f7f6c1a6_28ac_11eb_815b_0242ac1c0002row5_col6{\n",
              "            background-color:  #450457;\n",
              "            color:  #f1f1f1;\n",
              "        }#T_f7f6c1a6_28ac_11eb_815b_0242ac1c0002row5_col4,#T_f7f6c1a6_28ac_11eb_815b_0242ac1c0002row9_col4{\n",
              "            background-color:  #471164;\n",
              "            color:  #f1f1f1;\n",
              "        }#T_f7f6c1a6_28ac_11eb_815b_0242ac1c0002row5_col5{\n",
              "            background-color:  #424086;\n",
              "            color:  #f1f1f1;\n",
              "        }#T_f7f6c1a6_28ac_11eb_815b_0242ac1c0002row5_col9,#T_f7f6c1a6_28ac_11eb_815b_0242ac1c0002row9_col10{\n",
              "            background-color:  #470d60;\n",
              "            color:  #f1f1f1;\n",
              "        }#T_f7f6c1a6_28ac_11eb_815b_0242ac1c0002row6_col0,#T_f7f6c1a6_28ac_11eb_815b_0242ac1c0002row6_col3{\n",
              "            background-color:  #481d6f;\n",
              "            color:  #f1f1f1;\n",
              "        }#T_f7f6c1a6_28ac_11eb_815b_0242ac1c0002row6_col6{\n",
              "            background-color:  #f8e621;\n",
              "            color:  #000000;\n",
              "        }#T_f7f6c1a6_28ac_11eb_815b_0242ac1c0002row6_col8,#T_f7f6c1a6_28ac_11eb_815b_0242ac1c0002row10_col9{\n",
              "            background-color:  #efe51c;\n",
              "            color:  #000000;\n",
              "        }#T_f7f6c1a6_28ac_11eb_815b_0242ac1c0002row6_col12{\n",
              "            background-color:  #b0dd2f;\n",
              "            color:  #000000;\n",
              "        }#T_f7f6c1a6_28ac_11eb_815b_0242ac1c0002row7_col0{\n",
              "            background-color:  #bddf26;\n",
              "            color:  #000000;\n",
              "        }#T_f7f6c1a6_28ac_11eb_815b_0242ac1c0002row7_col3{\n",
              "            background-color:  #c2df23;\n",
              "            color:  #000000;\n",
              "        }#T_f7f6c1a6_28ac_11eb_815b_0242ac1c0002row7_col4,#T_f7f6c1a6_28ac_11eb_815b_0242ac1c0002row10_col4{\n",
              "            background-color:  #e2e418;\n",
              "            color:  #000000;\n",
              "        }#T_f7f6c1a6_28ac_11eb_815b_0242ac1c0002row7_col5{\n",
              "            background-color:  #81d34d;\n",
              "            color:  #000000;\n",
              "        }#T_f7f6c1a6_28ac_11eb_815b_0242ac1c0002row7_col12{\n",
              "            background-color:  #482979;\n",
              "            color:  #f1f1f1;\n",
              "        }#T_f7f6c1a6_28ac_11eb_815b_0242ac1c0002row9_col1{\n",
              "            background-color:  #470e61;\n",
              "            color:  #f1f1f1;\n",
              "        }#T_f7f6c1a6_28ac_11eb_815b_0242ac1c0002row9_col12{\n",
              "            background-color:  #481668;\n",
              "            color:  #f1f1f1;\n",
              "        }#T_f7f6c1a6_28ac_11eb_815b_0242ac1c0002row10_col1{\n",
              "            background-color:  #e7e419;\n",
              "            color:  #000000;\n",
              "        }#T_f7f6c1a6_28ac_11eb_815b_0242ac1c0002row10_col7{\n",
              "            background-color:  #fbe723;\n",
              "            color:  #000000;\n",
              "        }#T_f7f6c1a6_28ac_11eb_815b_0242ac1c0002row10_col12{\n",
              "            background-color:  #dae319;\n",
              "            color:  #000000;\n",
              "        }</style><table id=\"T_f7f6c1a6_28ac_11eb_815b_0242ac1c0002\" ><thead>    <tr>        <th class=\"index_name level0\" >Cluster</th>        <th class=\"col_heading level0 col0\" >0</th>        <th class=\"col_heading level0 col1\" >1</th>        <th class=\"col_heading level0 col2\" >2</th>        <th class=\"col_heading level0 col3\" >3</th>        <th class=\"col_heading level0 col4\" >4</th>        <th class=\"col_heading level0 col5\" >5</th>        <th class=\"col_heading level0 col6\" >6</th>        <th class=\"col_heading level0 col7\" >7</th>        <th class=\"col_heading level0 col8\" >8</th>        <th class=\"col_heading level0 col9\" >9</th>        <th class=\"col_heading level0 col10\" >10</th>        <th class=\"col_heading level0 col11\" >11</th>        <th class=\"col_heading level0 col12\" >12</th>    </tr></thead><tbody>\n",
              "                <tr>\n",
              "                        <th id=\"T_f7f6c1a6_28ac_11eb_815b_0242ac1c0002level0_row0\" class=\"row_heading level0 row0\" >Citations</th>\n",
              "                        <td id=\"T_f7f6c1a6_28ac_11eb_815b_0242ac1c0002row0_col0\" class=\"data row0 col0\" >1.750121</td>\n",
              "                        <td id=\"T_f7f6c1a6_28ac_11eb_815b_0242ac1c0002row0_col1\" class=\"data row0 col1\" >0.023753</td>\n",
              "                        <td id=\"T_f7f6c1a6_28ac_11eb_815b_0242ac1c0002row0_col2\" class=\"data row0 col2\" >-0.666547</td>\n",
              "                        <td id=\"T_f7f6c1a6_28ac_11eb_815b_0242ac1c0002row0_col3\" class=\"data row0 col3\" >1.591526</td>\n",
              "                        <td id=\"T_f7f6c1a6_28ac_11eb_815b_0242ac1c0002row0_col4\" class=\"data row0 col4\" >0.794830</td>\n",
              "                        <td id=\"T_f7f6c1a6_28ac_11eb_815b_0242ac1c0002row0_col5\" class=\"data row0 col5\" >-1.537548</td>\n",
              "                        <td id=\"T_f7f6c1a6_28ac_11eb_815b_0242ac1c0002row0_col6\" class=\"data row0 col6\" >1.178774</td>\n",
              "                        <td id=\"T_f7f6c1a6_28ac_11eb_815b_0242ac1c0002row0_col7\" class=\"data row0 col7\" >-0.338977</td>\n",
              "                        <td id=\"T_f7f6c1a6_28ac_11eb_815b_0242ac1c0002row0_col8\" class=\"data row0 col8\" >1.195543</td>\n",
              "                        <td id=\"T_f7f6c1a6_28ac_11eb_815b_0242ac1c0002row0_col9\" class=\"data row0 col9\" >0.439069</td>\n",
              "                        <td id=\"T_f7f6c1a6_28ac_11eb_815b_0242ac1c0002row0_col10\" class=\"data row0 col10\" >-0.414807</td>\n",
              "                        <td id=\"T_f7f6c1a6_28ac_11eb_815b_0242ac1c0002row0_col11\" class=\"data row0 col11\" >-1.537548</td>\n",
              "                        <td id=\"T_f7f6c1a6_28ac_11eb_815b_0242ac1c0002row0_col12\" class=\"data row0 col12\" >-0.101534</td>\n",
              "            </tr>\n",
              "            <tr>\n",
              "                        <th id=\"T_f7f6c1a6_28ac_11eb_815b_0242ac1c0002level0_row1\" class=\"row_heading level0 row1\" >Region_APAC</th>\n",
              "                        <td id=\"T_f7f6c1a6_28ac_11eb_815b_0242ac1c0002row1_col0\" class=\"data row1 col0\" >0.071596</td>\n",
              "                        <td id=\"T_f7f6c1a6_28ac_11eb_815b_0242ac1c0002row1_col1\" class=\"data row1 col1\" >0.074719</td>\n",
              "                        <td id=\"T_f7f6c1a6_28ac_11eb_815b_0242ac1c0002row1_col2\" class=\"data row1 col2\" >0.052502</td>\n",
              "                        <td id=\"T_f7f6c1a6_28ac_11eb_815b_0242ac1c0002row1_col3\" class=\"data row1 col3\" >0.097527</td>\n",
              "                        <td id=\"T_f7f6c1a6_28ac_11eb_815b_0242ac1c0002row1_col4\" class=\"data row1 col4\" >0.086284</td>\n",
              "                        <td id=\"T_f7f6c1a6_28ac_11eb_815b_0242ac1c0002row1_col5\" class=\"data row1 col5\" >0.023384</td>\n",
              "                        <td id=\"T_f7f6c1a6_28ac_11eb_815b_0242ac1c0002row1_col6\" class=\"data row1 col6\" >0.115000</td>\n",
              "                        <td id=\"T_f7f6c1a6_28ac_11eb_815b_0242ac1c0002row1_col7\" class=\"data row1 col7\" >0.004228</td>\n",
              "                        <td id=\"T_f7f6c1a6_28ac_11eb_815b_0242ac1c0002row1_col8\" class=\"data row1 col8\" >0.046740</td>\n",
              "                        <td id=\"T_f7f6c1a6_28ac_11eb_815b_0242ac1c0002row1_col9\" class=\"data row1 col9\" >0.057592</td>\n",
              "                        <td id=\"T_f7f6c1a6_28ac_11eb_815b_0242ac1c0002row1_col10\" class=\"data row1 col10\" >0.028762</td>\n",
              "                        <td id=\"T_f7f6c1a6_28ac_11eb_815b_0242ac1c0002row1_col11\" class=\"data row1 col11\" >0.046505</td>\n",
              "                        <td id=\"T_f7f6c1a6_28ac_11eb_815b_0242ac1c0002row1_col12\" class=\"data row1 col12\" >0.136463</td>\n",
              "            </tr>\n",
              "            <tr>\n",
              "                        <th id=\"T_f7f6c1a6_28ac_11eb_815b_0242ac1c0002level0_row2\" class=\"row_heading level0 row2\" >Region_EMEA</th>\n",
              "                        <td id=\"T_f7f6c1a6_28ac_11eb_815b_0242ac1c0002row2_col0\" class=\"data row2 col0\" >0.061033</td>\n",
              "                        <td id=\"T_f7f6c1a6_28ac_11eb_815b_0242ac1c0002row2_col1\" class=\"data row2 col1\" >0.051177</td>\n",
              "                        <td id=\"T_f7f6c1a6_28ac_11eb_815b_0242ac1c0002row2_col2\" class=\"data row2 col2\" >0.090238</td>\n",
              "                        <td id=\"T_f7f6c1a6_28ac_11eb_815b_0242ac1c0002row2_col3\" class=\"data row2 col3\" >0.043956</td>\n",
              "                        <td id=\"T_f7f6c1a6_28ac_11eb_815b_0242ac1c0002row2_col4\" class=\"data row2 col4\" >0.091575</td>\n",
              "                        <td id=\"T_f7f6c1a6_28ac_11eb_815b_0242ac1c0002row2_col5\" class=\"data row2 col5\" >0.019257</td>\n",
              "                        <td id=\"T_f7f6c1a6_28ac_11eb_815b_0242ac1c0002row2_col6\" class=\"data row2 col6\" >0.109000</td>\n",
              "                        <td id=\"T_f7f6c1a6_28ac_11eb_815b_0242ac1c0002row2_col7\" class=\"data row2 col7\" >0.005638</td>\n",
              "                        <td id=\"T_f7f6c1a6_28ac_11eb_815b_0242ac1c0002row2_col8\" class=\"data row2 col8\" >0.065191</td>\n",
              "                        <td id=\"T_f7f6c1a6_28ac_11eb_815b_0242ac1c0002row2_col9\" class=\"data row2 col9\" >0.020326</td>\n",
              "                        <td id=\"T_f7f6c1a6_28ac_11eb_815b_0242ac1c0002row2_col10\" class=\"data row2 col10\" >0.000000</td>\n",
              "                        <td id=\"T_f7f6c1a6_28ac_11eb_815b_0242ac1c0002row2_col11\" class=\"data row2 col11\" >0.063836</td>\n",
              "                        <td id=\"T_f7f6c1a6_28ac_11eb_815b_0242ac1c0002row2_col12\" class=\"data row2 col12\" >0.851528</td>\n",
              "            </tr>\n",
              "            <tr>\n",
              "                        <th id=\"T_f7f6c1a6_28ac_11eb_815b_0242ac1c0002level0_row3\" class=\"row_heading level0 row3\" >Region_LATAM</th>\n",
              "                        <td id=\"T_f7f6c1a6_28ac_11eb_815b_0242ac1c0002row3_col0\" class=\"data row3 col0\" >0.004695</td>\n",
              "                        <td id=\"T_f7f6c1a6_28ac_11eb_815b_0242ac1c0002row3_col1\" class=\"data row3 col1\" >0.008188</td>\n",
              "                        <td id=\"T_f7f6c1a6_28ac_11eb_815b_0242ac1c0002row3_col2\" class=\"data row3 col2\" >0.004102</td>\n",
              "                        <td id=\"T_f7f6c1a6_28ac_11eb_815b_0242ac1c0002row3_col3\" class=\"data row3 col3\" >0.010989</td>\n",
              "                        <td id=\"T_f7f6c1a6_28ac_11eb_815b_0242ac1c0002row3_col4\" class=\"data row3 col4\" >0.009361</td>\n",
              "                        <td id=\"T_f7f6c1a6_28ac_11eb_815b_0242ac1c0002row3_col5\" class=\"data row3 col5\" >0.000000</td>\n",
              "                        <td id=\"T_f7f6c1a6_28ac_11eb_815b_0242ac1c0002row3_col6\" class=\"data row3 col6\" >0.008000</td>\n",
              "                        <td id=\"T_f7f6c1a6_28ac_11eb_815b_0242ac1c0002row3_col7\" class=\"data row3 col7\" >0.000000</td>\n",
              "                        <td id=\"T_f7f6c1a6_28ac_11eb_815b_0242ac1c0002row3_col8\" class=\"data row3 col8\" >0.001845</td>\n",
              "                        <td id=\"T_f7f6c1a6_28ac_11eb_815b_0242ac1c0002row3_col9\" class=\"data row3 col9\" >0.005236</td>\n",
              "                        <td id=\"T_f7f6c1a6_28ac_11eb_815b_0242ac1c0002row3_col10\" class=\"data row3 col10\" >0.002119</td>\n",
              "                        <td id=\"T_f7f6c1a6_28ac_11eb_815b_0242ac1c0002row3_col11\" class=\"data row3 col11\" >0.001733</td>\n",
              "                        <td id=\"T_f7f6c1a6_28ac_11eb_815b_0242ac1c0002row3_col12\" class=\"data row3 col12\" >0.012009</td>\n",
              "            </tr>\n",
              "            <tr>\n",
              "                        <th id=\"T_f7f6c1a6_28ac_11eb_815b_0242ac1c0002level0_row4\" class=\"row_heading level0 row4\" >Region_NA</th>\n",
              "                        <td id=\"T_f7f6c1a6_28ac_11eb_815b_0242ac1c0002row4_col0\" class=\"data row4 col0\" >0.862676</td>\n",
              "                        <td id=\"T_f7f6c1a6_28ac_11eb_815b_0242ac1c0002row4_col1\" class=\"data row4 col1\" >0.865916</td>\n",
              "                        <td id=\"T_f7f6c1a6_28ac_11eb_815b_0242ac1c0002row4_col2\" class=\"data row4 col2\" >0.853158</td>\n",
              "                        <td id=\"T_f7f6c1a6_28ac_11eb_815b_0242ac1c0002row4_col3\" class=\"data row4 col3\" >0.847527</td>\n",
              "                        <td id=\"T_f7f6c1a6_28ac_11eb_815b_0242ac1c0002row4_col4\" class=\"data row4 col4\" >0.812780</td>\n",
              "                        <td id=\"T_f7f6c1a6_28ac_11eb_815b_0242ac1c0002row4_col5\" class=\"data row4 col5\" >0.957359</td>\n",
              "                        <td id=\"T_f7f6c1a6_28ac_11eb_815b_0242ac1c0002row4_col6\" class=\"data row4 col6\" >0.768000</td>\n",
              "                        <td id=\"T_f7f6c1a6_28ac_11eb_815b_0242ac1c0002row4_col7\" class=\"data row4 col7\" >0.990134</td>\n",
              "                        <td id=\"T_f7f6c1a6_28ac_11eb_815b_0242ac1c0002row4_col8\" class=\"data row4 col8\" >0.886224</td>\n",
              "                        <td id=\"T_f7f6c1a6_28ac_11eb_815b_0242ac1c0002row4_col9\" class=\"data row4 col9\" >0.916846</td>\n",
              "                        <td id=\"T_f7f6c1a6_28ac_11eb_815b_0242ac1c0002row4_col10\" class=\"data row4 col10\" >0.969119</td>\n",
              "                        <td id=\"T_f7f6c1a6_28ac_11eb_815b_0242ac1c0002row4_col11\" class=\"data row4 col11\" >0.887926</td>\n",
              "                        <td id=\"T_f7f6c1a6_28ac_11eb_815b_0242ac1c0002row4_col12\" class=\"data row4 col12\" >0.000000</td>\n",
              "            </tr>\n",
              "            <tr>\n",
              "                        <th id=\"T_f7f6c1a6_28ac_11eb_815b_0242ac1c0002level0_row5\" class=\"row_heading level0 row5\" >Program Area_Biologics</th>\n",
              "                        <td id=\"T_f7f6c1a6_28ac_11eb_815b_0242ac1c0002row5_col0\" class=\"data row5 col0\" >0.017606</td>\n",
              "                        <td id=\"T_f7f6c1a6_28ac_11eb_815b_0242ac1c0002row5_col1\" class=\"data row5 col1\" >0.000000</td>\n",
              "                        <td id=\"T_f7f6c1a6_28ac_11eb_815b_0242ac1c0002row5_col2\" class=\"data row5 col2\" >0.000000</td>\n",
              "                        <td id=\"T_f7f6c1a6_28ac_11eb_815b_0242ac1c0002row5_col3\" class=\"data row5 col3\" >0.009615</td>\n",
              "                        <td id=\"T_f7f6c1a6_28ac_11eb_815b_0242ac1c0002row5_col4\" class=\"data row5 col4\" >0.043956</td>\n",
              "                        <td id=\"T_f7f6c1a6_28ac_11eb_815b_0242ac1c0002row5_col5\" class=\"data row5 col5\" >0.189821</td>\n",
              "                        <td id=\"T_f7f6c1a6_28ac_11eb_815b_0242ac1c0002row5_col6\" class=\"data row5 col6\" >0.009000</td>\n",
              "                        <td id=\"T_f7f6c1a6_28ac_11eb_815b_0242ac1c0002row5_col7\" class=\"data row5 col7\" >1.000000</td>\n",
              "                        <td id=\"T_f7f6c1a6_28ac_11eb_815b_0242ac1c0002row5_col8\" class=\"data row5 col8\" >0.025215</td>\n",
              "                        <td id=\"T_f7f6c1a6_28ac_11eb_815b_0242ac1c0002row5_col9\" class=\"data row5 col9\" >0.033569</td>\n",
              "                        <td id=\"T_f7f6c1a6_28ac_11eb_815b_0242ac1c0002row5_col10\" class=\"data row5 col10\" >0.000000</td>\n",
              "                        <td id=\"T_f7f6c1a6_28ac_11eb_815b_0242ac1c0002row5_col11\" class=\"data row5 col11\" >0.000000</td>\n",
              "                        <td id=\"T_f7f6c1a6_28ac_11eb_815b_0242ac1c0002row5_col12\" class=\"data row5 col12\" >0.004367</td>\n",
              "            </tr>\n",
              "            <tr>\n",
              "                        <th id=\"T_f7f6c1a6_28ac_11eb_815b_0242ac1c0002level0_row6\" class=\"row_heading level0 row6\" >Program Area_Devices</th>\n",
              "                        <td id=\"T_f7f6c1a6_28ac_11eb_815b_0242ac1c0002row6_col0\" class=\"data row6 col0\" >0.080986</td>\n",
              "                        <td id=\"T_f7f6c1a6_28ac_11eb_815b_0242ac1c0002row6_col1\" class=\"data row6 col1\" >0.000000</td>\n",
              "                        <td id=\"T_f7f6c1a6_28ac_11eb_815b_0242ac1c0002row6_col2\" class=\"data row6 col2\" >0.000000</td>\n",
              "                        <td id=\"T_f7f6c1a6_28ac_11eb_815b_0242ac1c0002row6_col3\" class=\"data row6 col3\" >0.081044</td>\n",
              "                        <td id=\"T_f7f6c1a6_28ac_11eb_815b_0242ac1c0002row6_col4\" class=\"data row6 col4\" >0.000000</td>\n",
              "                        <td id=\"T_f7f6c1a6_28ac_11eb_815b_0242ac1c0002row6_col5\" class=\"data row6 col5\" >0.000000</td>\n",
              "                        <td id=\"T_f7f6c1a6_28ac_11eb_815b_0242ac1c0002row6_col6\" class=\"data row6 col6\" >0.991000</td>\n",
              "                        <td id=\"T_f7f6c1a6_28ac_11eb_815b_0242ac1c0002row6_col7\" class=\"data row6 col7\" >0.000000</td>\n",
              "                        <td id=\"T_f7f6c1a6_28ac_11eb_815b_0242ac1c0002row6_col8\" class=\"data row6 col8\" >0.974785</td>\n",
              "                        <td id=\"T_f7f6c1a6_28ac_11eb_815b_0242ac1c0002row6_col9\" class=\"data row6 col9\" >0.966431</td>\n",
              "                        <td id=\"T_f7f6c1a6_28ac_11eb_815b_0242ac1c0002row6_col10\" class=\"data row6 col10\" >1.000000</td>\n",
              "                        <td id=\"T_f7f6c1a6_28ac_11eb_815b_0242ac1c0002row6_col11\" class=\"data row6 col11\" >1.000000</td>\n",
              "                        <td id=\"T_f7f6c1a6_28ac_11eb_815b_0242ac1c0002row6_col12\" class=\"data row6 col12\" >0.879913</td>\n",
              "            </tr>\n",
              "            <tr>\n",
              "                        <th id=\"T_f7f6c1a6_28ac_11eb_815b_0242ac1c0002level0_row7\" class=\"row_heading level0 row7\" >Program Area_Drugs</th>\n",
              "                        <td id=\"T_f7f6c1a6_28ac_11eb_815b_0242ac1c0002row7_col0\" class=\"data row7 col0\" >0.901408</td>\n",
              "                        <td id=\"T_f7f6c1a6_28ac_11eb_815b_0242ac1c0002row7_col1\" class=\"data row7 col1\" >1.000000</td>\n",
              "                        <td id=\"T_f7f6c1a6_28ac_11eb_815b_0242ac1c0002row7_col2\" class=\"data row7 col2\" >1.000000</td>\n",
              "                        <td id=\"T_f7f6c1a6_28ac_11eb_815b_0242ac1c0002row7_col3\" class=\"data row7 col3\" >0.909341</td>\n",
              "                        <td id=\"T_f7f6c1a6_28ac_11eb_815b_0242ac1c0002row7_col4\" class=\"data row7 col4\" >0.956044</td>\n",
              "                        <td id=\"T_f7f6c1a6_28ac_11eb_815b_0242ac1c0002row7_col5\" class=\"data row7 col5\" >0.810179</td>\n",
              "                        <td id=\"T_f7f6c1a6_28ac_11eb_815b_0242ac1c0002row7_col6\" class=\"data row7 col6\" >0.000000</td>\n",
              "                        <td id=\"T_f7f6c1a6_28ac_11eb_815b_0242ac1c0002row7_col7\" class=\"data row7 col7\" >0.000000</td>\n",
              "                        <td id=\"T_f7f6c1a6_28ac_11eb_815b_0242ac1c0002row7_col8\" class=\"data row7 col8\" >0.000000</td>\n",
              "                        <td id=\"T_f7f6c1a6_28ac_11eb_815b_0242ac1c0002row7_col9\" class=\"data row7 col9\" >0.000000</td>\n",
              "                        <td id=\"T_f7f6c1a6_28ac_11eb_815b_0242ac1c0002row7_col10\" class=\"data row7 col10\" >0.000000</td>\n",
              "                        <td id=\"T_f7f6c1a6_28ac_11eb_815b_0242ac1c0002row7_col11\" class=\"data row7 col11\" >0.000000</td>\n",
              "                        <td id=\"T_f7f6c1a6_28ac_11eb_815b_0242ac1c0002row7_col12\" class=\"data row7 col12\" >0.115721</td>\n",
              "            </tr>\n",
              "            <tr>\n",
              "                        <th id=\"T_f7f6c1a6_28ac_11eb_815b_0242ac1c0002level0_row8\" class=\"row_heading level0 row8\" >Classification_NAI</th>\n",
              "                        <td id=\"T_f7f6c1a6_28ac_11eb_815b_0242ac1c0002row8_col0\" class=\"data row8 col0\" >0.000000</td>\n",
              "                        <td id=\"T_f7f6c1a6_28ac_11eb_815b_0242ac1c0002row8_col1\" class=\"data row8 col1\" >0.000000</td>\n",
              "                        <td id=\"T_f7f6c1a6_28ac_11eb_815b_0242ac1c0002row8_col2\" class=\"data row8 col2\" >0.000000</td>\n",
              "                        <td id=\"T_f7f6c1a6_28ac_11eb_815b_0242ac1c0002row8_col3\" class=\"data row8 col3\" >0.000000</td>\n",
              "                        <td id=\"T_f7f6c1a6_28ac_11eb_815b_0242ac1c0002row8_col4\" class=\"data row8 col4\" >0.000000</td>\n",
              "                        <td id=\"T_f7f6c1a6_28ac_11eb_815b_0242ac1c0002row8_col5\" class=\"data row8 col5\" >1.000000</td>\n",
              "                        <td id=\"T_f7f6c1a6_28ac_11eb_815b_0242ac1c0002row8_col6\" class=\"data row8 col6\" >0.000000</td>\n",
              "                        <td id=\"T_f7f6c1a6_28ac_11eb_815b_0242ac1c0002row8_col7\" class=\"data row8 col7\" >0.000000</td>\n",
              "                        <td id=\"T_f7f6c1a6_28ac_11eb_815b_0242ac1c0002row8_col8\" class=\"data row8 col8\" >0.000000</td>\n",
              "                        <td id=\"T_f7f6c1a6_28ac_11eb_815b_0242ac1c0002row8_col9\" class=\"data row8 col9\" >0.000000</td>\n",
              "                        <td id=\"T_f7f6c1a6_28ac_11eb_815b_0242ac1c0002row8_col10\" class=\"data row8 col10\" >0.000000</td>\n",
              "                        <td id=\"T_f7f6c1a6_28ac_11eb_815b_0242ac1c0002row8_col11\" class=\"data row8 col11\" >1.000000</td>\n",
              "                        <td id=\"T_f7f6c1a6_28ac_11eb_815b_0242ac1c0002row8_col12\" class=\"data row8 col12\" >0.000000</td>\n",
              "            </tr>\n",
              "            <tr>\n",
              "                        <th id=\"T_f7f6c1a6_28ac_11eb_815b_0242ac1c0002level0_row9\" class=\"row_heading level0 row9\" >Classification_OAI</th>\n",
              "                        <td id=\"T_f7f6c1a6_28ac_11eb_815b_0242ac1c0002row9_col0\" class=\"data row9 col0\" >0.000000</td>\n",
              "                        <td id=\"T_f7f6c1a6_28ac_11eb_815b_0242ac1c0002row9_col1\" class=\"data row9 col1\" >0.035312</td>\n",
              "                        <td id=\"T_f7f6c1a6_28ac_11eb_815b_0242ac1c0002row9_col2\" class=\"data row9 col2\" >0.022970</td>\n",
              "                        <td id=\"T_f7f6c1a6_28ac_11eb_815b_0242ac1c0002row9_col3\" class=\"data row9 col3\" >1.000000</td>\n",
              "                        <td id=\"T_f7f6c1a6_28ac_11eb_815b_0242ac1c0002row9_col4\" class=\"data row9 col4\" >0.046398</td>\n",
              "                        <td id=\"T_f7f6c1a6_28ac_11eb_815b_0242ac1c0002row9_col5\" class=\"data row9 col5\" >0.000000</td>\n",
              "                        <td id=\"T_f7f6c1a6_28ac_11eb_815b_0242ac1c0002row9_col6\" class=\"data row9 col6\" >1.000000</td>\n",
              "                        <td id=\"T_f7f6c1a6_28ac_11eb_815b_0242ac1c0002row9_col7\" class=\"data row9 col7\" >0.007752</td>\n",
              "                        <td id=\"T_f7f6c1a6_28ac_11eb_815b_0242ac1c0002row9_col8\" class=\"data row9 col8\" >0.000000</td>\n",
              "                        <td id=\"T_f7f6c1a6_28ac_11eb_815b_0242ac1c0002row9_col9\" class=\"data row9 col9\" >0.024022</td>\n",
              "                        <td id=\"T_f7f6c1a6_28ac_11eb_815b_0242ac1c0002row9_col10\" class=\"data row9 col10\" >0.033000</td>\n",
              "                        <td id=\"T_f7f6c1a6_28ac_11eb_815b_0242ac1c0002row9_col11\" class=\"data row9 col11\" >0.000000</td>\n",
              "                        <td id=\"T_f7f6c1a6_28ac_11eb_815b_0242ac1c0002row9_col12\" class=\"data row9 col12\" >0.055677</td>\n",
              "            </tr>\n",
              "            <tr>\n",
              "                        <th id=\"T_f7f6c1a6_28ac_11eb_815b_0242ac1c0002level0_row10\" class=\"row_heading level0 row10\" >Classification_VAI</th>\n",
              "                        <td id=\"T_f7f6c1a6_28ac_11eb_815b_0242ac1c0002row10_col0\" class=\"data row10 col0\" >1.000000</td>\n",
              "                        <td id=\"T_f7f6c1a6_28ac_11eb_815b_0242ac1c0002row10_col1\" class=\"data row10 col1\" >0.964688</td>\n",
              "                        <td id=\"T_f7f6c1a6_28ac_11eb_815b_0242ac1c0002row10_col2\" class=\"data row10 col2\" >0.977030</td>\n",
              "                        <td id=\"T_f7f6c1a6_28ac_11eb_815b_0242ac1c0002row10_col3\" class=\"data row10 col3\" >0.000000</td>\n",
              "                        <td id=\"T_f7f6c1a6_28ac_11eb_815b_0242ac1c0002row10_col4\" class=\"data row10 col4\" >0.953602</td>\n",
              "                        <td id=\"T_f7f6c1a6_28ac_11eb_815b_0242ac1c0002row10_col5\" class=\"data row10 col5\" >0.000000</td>\n",
              "                        <td id=\"T_f7f6c1a6_28ac_11eb_815b_0242ac1c0002row10_col6\" class=\"data row10 col6\" >0.000000</td>\n",
              "                        <td id=\"T_f7f6c1a6_28ac_11eb_815b_0242ac1c0002row10_col7\" class=\"data row10 col7\" >0.992248</td>\n",
              "                        <td id=\"T_f7f6c1a6_28ac_11eb_815b_0242ac1c0002row10_col8\" class=\"data row10 col8\" >1.000000</td>\n",
              "                        <td id=\"T_f7f6c1a6_28ac_11eb_815b_0242ac1c0002row10_col9\" class=\"data row10 col9\" >0.975978</td>\n",
              "                        <td id=\"T_f7f6c1a6_28ac_11eb_815b_0242ac1c0002row10_col10\" class=\"data row10 col10\" >0.967000</td>\n",
              "                        <td id=\"T_f7f6c1a6_28ac_11eb_815b_0242ac1c0002row10_col11\" class=\"data row10 col11\" >0.000000</td>\n",
              "                        <td id=\"T_f7f6c1a6_28ac_11eb_815b_0242ac1c0002row10_col12\" class=\"data row10 col12\" >0.944323</td>\n",
              "            </tr>\n",
              "    </tbody></table>"
            ],
            "text/plain": [
              "<pandas.io.formats.style.Styler at 0x7fc2047abd68>"
            ]
          },
          "metadata": {
            "tags": []
          },
          "execution_count": 28
        }
      ]
    },
    {
      "cell_type": "markdown",
      "metadata": {
        "id": "hmqMl6MvyzBi"
      },
      "source": [
        "From the visuals, we can see the following:\n",
        "\n",
        "\n",
        "*   Inspections classified OAI are often clustered with inspections for devices or drugs, in North America or APAC, and end with high count of citations\n",
        "*   Inspections classified NAI are often clustered with inspections for devices, in North America or APAC, and end with lowest count of citations (none)\n",
        "*   Inspections classified VAI vary but are often clustered with inspections for drugs or devices or biologics, in North America, and end with high count of citations (not as high as those classified OAI)\n",
        "*   Inspections ending with highest count of citations are often clustered with inspections for drugs and, to lesser extent, devices, in North America, and classified VAI\n",
        "*   Inspections for biologics are often clustered with inspections in North America, classified VAI, and end with low count of citations\n",
        "\n",
        "\n",
        "\n",
        "\n",
        "\n"
      ]
    },
    {
      "cell_type": "markdown",
      "metadata": {
        "id": "7z0nmGkkhdQS"
      },
      "source": [
        "###**5.4. Evaluate Clusters with Classification Model**"
      ]
    },
    {
      "cell_type": "markdown",
      "metadata": {
        "id": "a9KOL-6eYsyO"
      },
      "source": [
        "Lastly, we build a multi-class classification model to predict clusters as a means of evaluating the quality of clusters. If the classification model predicts K-Prototype clusters accurately (e.g. ROC AUC, Precision, Recall, F1), we can conclude that the clusters constructed through K-Prototype are well-defined and distinguishable. In this project, we use XGBoost."
      ]
    },
    {
      "cell_type": "markdown",
      "metadata": {
        "id": "LwvZaP5dddLp"
      },
      "source": [
        "#####**5.4.1. Construct Model Pipeline**"
      ]
    },
    {
      "cell_type": "code",
      "metadata": {
        "id": "xk0vfeS-hGcx"
      },
      "source": [
        "X = df_kproto[['Region','Program Area','Classification','Citations']]\n",
        "y = df_kproto[['Cluster']]\n",
        "\n",
        "X_train, X_test, y_train, y_test = train_test_split(X, y, test_size=0.4, random_state=0, stratify=y)"
      ],
      "execution_count": 29,
      "outputs": []
    },
    {
      "cell_type": "code",
      "metadata": {
        "id": "YsW9-RdlhzcP"
      },
      "source": [
        "def get_features(x):\n",
        "  # Categorical features\n",
        "  col_cat = [key for key in dict(x.dtypes)\n",
        "                 if dict(x.dtypes)[key] in ['object', 'bool']]\n",
        "  # Numeric features\n",
        "  col_num = [key for key in dict(x.dtypes)\n",
        "                 if dict(x.dtypes)[key] in ['float64','float32','int32','int64']]\n",
        "  return col_cat, col_num"
      ],
      "execution_count": 30,
      "outputs": []
    },
    {
      "cell_type": "code",
      "metadata": {
        "id": "x2V2srt8jJTO"
      },
      "source": [
        "def print_predictions(model, X_train=X_train, y_train=y_train, X_test=X_test, y_test=y_test, multi_class='ovr', average='weighted'):\n",
        "    print('training auc: '+str(roc_auc_score(y_train, model.predict_proba(X_train), multi_class=multi_class)))\n",
        "    print('testing auc:  '+str(roc_auc_score(y_test, model.predict_proba(X_test), multi_class=multi_class)))\n",
        "    print('precision:    '+str(precision_score(y_test, model.predict(X_test), average=average)))\n",
        "    print('recall:       '+str(recall_score(y_test, model.predict(X_test), average=average)))\n",
        "    print('f1:           '+str(f1_score(y_test, model.predict(X_test), average=average)))\n",
        "    print('accuracy:     '+str(accuracy_score(y_test, model.predict(X_test))))\n",
        "    print('logloss:      '+str(log_loss(y_test, model.predict_proba(X_test))))"
      ],
      "execution_count": 31,
      "outputs": []
    },
    {
      "cell_type": "code",
      "metadata": {
        "id": "WBUIED-Ih0Mw"
      },
      "source": [
        "col_cat, col_num = get_features(X_train)\n",
        "\n",
        "pipe_cat = OneHotEncoder(handle_unknown='ignore')\n",
        "pipe_num = StandardScaler()\n",
        "preprocessor = make_column_transformer((pipe_cat, col_cat), (pipe_num, col_num))"
      ],
      "execution_count": 32,
      "outputs": []
    },
    {
      "cell_type": "markdown",
      "metadata": {
        "id": "AaHxesoHdkJh"
      },
      "source": [
        "#####**5.4.2. Build and Evaluate Model**"
      ]
    },
    {
      "cell_type": "code",
      "metadata": {
        "id": "1cui7FQUgxRl",
        "outputId": "ff7842bc-b9a0-4c58-d4f1-83fcd6c9e6ac",
        "colab": {
          "base_uri": "https://localhost:8080/"
        }
      },
      "source": [
        "model = XGBClassifier(random_state=0)\n",
        "pipe = make_pipeline(preprocessor, model)\n",
        "pipe.fit(X_train, y_train.values.ravel())"
      ],
      "execution_count": 33,
      "outputs": [
        {
          "output_type": "execute_result",
          "data": {
            "text/plain": [
              "Pipeline(memory=None,\n",
              "         steps=[('columntransformer',\n",
              "                 ColumnTransformer(n_jobs=None, remainder='drop',\n",
              "                                   sparse_threshold=0.3,\n",
              "                                   transformer_weights=None,\n",
              "                                   transformers=[('onehotencoder',\n",
              "                                                  OneHotEncoder(categories='auto',\n",
              "                                                                drop=None,\n",
              "                                                                dtype=<class 'numpy.float64'>,\n",
              "                                                                handle_unknown='ignore',\n",
              "                                                                sparse=True),\n",
              "                                                  ['Region', 'Program Area',\n",
              "                                                   'Classification']),\n",
              "                                                 ('standardscaler',\n",
              "                                                  Standard...\n",
              "                 XGBClassifier(base_score=0.5, booster='gbtree',\n",
              "                               colsample_bylevel=1, colsample_bynode=1,\n",
              "                               colsample_bytree=1, gamma=0, learning_rate=0.1,\n",
              "                               max_delta_step=0, max_depth=3,\n",
              "                               min_child_weight=1, missing=None,\n",
              "                               n_estimators=100, n_jobs=1, nthread=None,\n",
              "                               objective='multi:softprob', random_state=0,\n",
              "                               reg_alpha=0, reg_lambda=1, scale_pos_weight=1,\n",
              "                               seed=None, silent=None, subsample=1,\n",
              "                               verbosity=1))],\n",
              "         verbose=False)"
            ]
          },
          "metadata": {
            "tags": []
          },
          "execution_count": 33
        }
      ]
    },
    {
      "cell_type": "code",
      "metadata": {
        "id": "FxzmEN0fosBn",
        "outputId": "56a36948-3b89-48b7-a846-fe56fe7bcf9d",
        "colab": {
          "base_uri": "https://localhost:8080/"
        }
      },
      "source": [
        "print_predictions(pipe)"
      ],
      "execution_count": 34,
      "outputs": [
        {
          "output_type": "stream",
          "text": [
            "training auc: 1.0\n",
            "testing auc:  0.9999999341712601\n",
            "precision:    0.9997828404898251\n",
            "recall:       0.9997817546922741\n",
            "f1:           0.9997816505335796\n",
            "accuracy:     0.9997817546922741\n",
            "logloss:      0.005152496336031562\n"
          ],
          "name": "stdout"
        }
      ]
    },
    {
      "cell_type": "code",
      "metadata": {
        "id": "AqY8uMWKmF4_",
        "outputId": "49ef89b3-d68b-4d90-e1ee-689389680ac9",
        "colab": {
          "base_uri": "https://localhost:8080/",
          "height": 428
        }
      },
      "source": [
        "image = xgboost.to_graphviz(pipe.named_steps['xgbclassifier'])\n",
        "image"
      ],
      "execution_count": 35,
      "outputs": [
        {
          "output_type": "execute_result",
          "data": {
            "text/plain": [
              "<graphviz.dot.Digraph at 0x7fc203bf8390>"
            ],
            "image/svg+xml": "<?xml version=\"1.0\" encoding=\"UTF-8\" standalone=\"no\"?>\n<!DOCTYPE svg PUBLIC \"-//W3C//DTD SVG 1.1//EN\"\n \"http://www.w3.org/Graphics/SVG/1.1/DTD/svg11.dtd\">\n<!-- Generated by graphviz version 2.40.1 (20161225.0304)\n -->\n<!-- Title: %3 Pages: 1 -->\n<svg width=\"412pt\" height=\"305pt\"\n viewBox=\"0.00 0.00 411.99 305.00\" xmlns=\"http://www.w3.org/2000/svg\" xmlns:xlink=\"http://www.w3.org/1999/xlink\">\n<g id=\"graph0\" class=\"graph\" transform=\"scale(1 1) rotate(0) translate(4 301)\">\n<title>%3</title>\n<polygon fill=\"#ffffff\" stroke=\"transparent\" points=\"-4,4 -4,-301 407.985,-301 407.985,4 -4,4\"/>\n<!-- 0 -->\n<g id=\"node1\" class=\"node\">\n<title>0</title>\n<ellipse fill=\"none\" stroke=\"#000000\" cx=\"160.5928\" cy=\"-279\" rx=\"75.2868\" ry=\"18\"/>\n<text text-anchor=\"middle\" x=\"160.5928\" y=\"-275.3\" font-family=\"Times,serif\" font-size=\"14.00\" fill=\"#000000\">f10&lt;1.33850384</text>\n</g>\n<!-- 1 -->\n<g id=\"node2\" class=\"node\">\n<title>1</title>\n<ellipse fill=\"none\" stroke=\"#000000\" cx=\"113.5928\" cy=\"-192\" rx=\"88.2844\" ry=\"18\"/>\n<text text-anchor=\"middle\" x=\"113.5928\" y=\"-188.3\" font-family=\"Times,serif\" font-size=\"14.00\" fill=\"#000000\">leaf=&#45;0.0541360863</text>\n</g>\n<!-- 0&#45;&gt;1 -->\n<g id=\"edge1\" class=\"edge\">\n<title>0&#45;&gt;1</title>\n<path fill=\"none\" stroke=\"#0000ff\" d=\"M149.068,-260.8789C145.5899,-255.2174 141.8363,-248.9068 138.5928,-243 134.4088,-235.3803 130.1418,-226.9607 126.3451,-219.1956\"/>\n<polygon fill=\"#0000ff\" stroke=\"#0000ff\" points=\"129.4786,-217.6356 121.9845,-210.1463 123.1725,-220.6744 129.4786,-217.6356\"/>\n<text text-anchor=\"middle\" x=\"174.0928\" y=\"-231.8\" font-family=\"Times,serif\" font-size=\"14.00\" fill=\"#000000\">yes, missing</text>\n</g>\n<!-- 2 -->\n<g id=\"node3\" class=\"node\">\n<title>2</title>\n<ellipse fill=\"none\" stroke=\"#000000\" cx=\"256.5928\" cy=\"-192\" rx=\"36.2938\" ry=\"18\"/>\n<text text-anchor=\"middle\" x=\"256.5928\" y=\"-188.3\" font-family=\"Times,serif\" font-size=\"14.00\" fill=\"#000000\">f8&lt;0.5</text>\n</g>\n<!-- 0&#45;&gt;2 -->\n<g id=\"edge2\" class=\"edge\">\n<title>0&#45;&gt;2</title>\n<path fill=\"none\" stroke=\"#ff0000\" d=\"M185.7413,-261.9456C193.6274,-256.2278 202.1981,-249.6165 209.5928,-243 218.6613,-234.8859 227.8946,-225.2301 235.7492,-216.5144\"/>\n<polygon fill=\"#ff0000\" stroke=\"#ff0000\" points=\"238.5282,-218.6553 242.5309,-208.8456 233.2845,-214.0181 238.5282,-218.6553\"/>\n<text text-anchor=\"middle\" x=\"233.5928\" y=\"-231.8\" font-family=\"Times,serif\" font-size=\"14.00\" fill=\"#000000\">no</text>\n</g>\n<!-- 3 -->\n<g id=\"node4\" class=\"node\">\n<title>3</title>\n<ellipse fill=\"none\" stroke=\"#000000\" cx=\"172.5928\" cy=\"-105\" rx=\"36.2938\" ry=\"18\"/>\n<text text-anchor=\"middle\" x=\"172.5928\" y=\"-101.3\" font-family=\"Times,serif\" font-size=\"14.00\" fill=\"#000000\">f5&lt;0.5</text>\n</g>\n<!-- 2&#45;&gt;3 -->\n<g id=\"edge3\" class=\"edge\">\n<title>2&#45;&gt;3</title>\n<path fill=\"none\" stroke=\"#0000ff\" d=\"M233.8557,-177.6844C225.1154,-171.5921 215.3767,-164.0384 207.5928,-156 200.3852,-148.5567 193.639,-139.4796 188.0301,-131.0575\"/>\n<polygon fill=\"#0000ff\" stroke=\"#0000ff\" points=\"190.9642,-129.1492 182.6251,-122.6139 185.0686,-132.9231 190.9642,-129.1492\"/>\n<text text-anchor=\"middle\" x=\"243.0928\" y=\"-144.8\" font-family=\"Times,serif\" font-size=\"14.00\" fill=\"#000000\">yes, missing</text>\n</g>\n<!-- 4 -->\n<g id=\"node5\" class=\"node\">\n<title>4</title>\n<ellipse fill=\"none\" stroke=\"#000000\" cx=\"315.5928\" cy=\"-105\" rx=\"88.2844\" ry=\"18\"/>\n<text text-anchor=\"middle\" x=\"315.5928\" y=\"-101.3\" font-family=\"Times,serif\" font-size=\"14.00\" fill=\"#000000\">leaf=&#45;0.0534303896</text>\n</g>\n<!-- 2&#45;&gt;4 -->\n<g id=\"edge4\" class=\"edge\">\n<title>2&#45;&gt;4</title>\n<path fill=\"none\" stroke=\"#ff0000\" d=\"M268.2494,-174.8116C276.6482,-162.4268 288.138,-145.4842 297.6952,-131.3915\"/>\n<polygon fill=\"#ff0000\" stroke=\"#ff0000\" points=\"300.6352,-133.292 303.3512,-123.0512 294.8418,-129.3631 300.6352,-133.292\"/>\n<text text-anchor=\"middle\" x=\"298.5928\" y=\"-144.8\" font-family=\"Times,serif\" font-size=\"14.00\" fill=\"#000000\">no</text>\n</g>\n<!-- 5 -->\n<g id=\"node6\" class=\"node\">\n<title>5</title>\n<ellipse fill=\"none\" stroke=\"#000000\" cx=\"80.5928\" cy=\"-18\" rx=\"80.6858\" ry=\"18\"/>\n<text text-anchor=\"middle\" x=\"80.5928\" y=\"-14.3\" font-family=\"Times,serif\" font-size=\"14.00\" fill=\"#000000\">leaf=0.639089286</text>\n</g>\n<!-- 3&#45;&gt;5 -->\n<g id=\"edge5\" class=\"edge\">\n<title>3&#45;&gt;5</title>\n<path fill=\"none\" stroke=\"#0000ff\" d=\"M155.7186,-89.0429C141.9882,-76.0586 122.3763,-57.5126 106.6336,-42.6255\"/>\n<polygon fill=\"#0000ff\" stroke=\"#0000ff\" points=\"108.9295,-39.9795 99.2589,-35.6516 104.1199,-45.0655 108.9295,-39.9795\"/>\n<text text-anchor=\"middle\" x=\"168.0928\" y=\"-57.8\" font-family=\"Times,serif\" font-size=\"14.00\" fill=\"#000000\">yes, missing</text>\n</g>\n<!-- 6 -->\n<g id=\"node7\" class=\"node\">\n<title>6</title>\n<ellipse fill=\"none\" stroke=\"#000000\" cx=\"264.5928\" cy=\"-18\" rx=\"85.2851\" ry=\"18\"/>\n<text text-anchor=\"middle\" x=\"264.5928\" y=\"-14.3\" font-family=\"Times,serif\" font-size=\"14.00\" fill=\"#000000\">leaf=0.0292459372</text>\n</g>\n<!-- 3&#45;&gt;6 -->\n<g id=\"edge6\" class=\"edge\">\n<title>3&#45;&gt;6</title>\n<path fill=\"none\" stroke=\"#ff0000\" d=\"M189.4671,-89.0429C203.1975,-76.0586 222.8094,-57.5126 238.5521,-42.6255\"/>\n<polygon fill=\"#ff0000\" stroke=\"#ff0000\" points=\"241.0658,-45.0655 245.9268,-35.6516 236.2562,-39.9795 241.0658,-45.0655\"/>\n<text text-anchor=\"middle\" x=\"232.5928\" y=\"-57.8\" font-family=\"Times,serif\" font-size=\"14.00\" fill=\"#000000\">no</text>\n</g>\n</g>\n</svg>\n"
          },
          "metadata": {
            "tags": []
          },
          "execution_count": 35
        }
      ]
    },
    {
      "cell_type": "markdown",
      "metadata": {
        "id": "ruXM6lX4du6r"
      },
      "source": [
        "#####**5.4.3. Explore Feature Importance**"
      ]
    },
    {
      "cell_type": "code",
      "metadata": {
        "id": "lsO5VEk-04On",
        "outputId": "8afd0ada-d1a6-4677-f436-a777e18771f9",
        "colab": {
          "base_uri": "https://localhost:8080/",
          "height": 390
        }
      },
      "source": [
        "processor = pipe.named_steps['columntransformer']\n",
        "ohe_categories = processor.named_transformers_['onehotencoder'].categories_\n",
        "new_ohe_features = [f'{col}__{val}' for col, vals in zip(col_cat, ohe_categories) for val in vals]\n",
        "all_features = new_ohe_features + col_num\n",
        "importance = pd.DataFrame(data=pipe.named_steps['xgbclassifier'].feature_importances_).rename(columns={0:'importance'})\n",
        "importance['feature'] = all_features\n",
        "importance = (importance.sort_values(by=['importance'], ascending=False)\n",
        "             ).reset_index().drop(columns=['index'])\n",
        "importance"
      ],
      "execution_count": 36,
      "outputs": [
        {
          "output_type": "execute_result",
          "data": {
            "text/html": [
              "<div>\n",
              "<style scoped>\n",
              "    .dataframe tbody tr th:only-of-type {\n",
              "        vertical-align: middle;\n",
              "    }\n",
              "\n",
              "    .dataframe tbody tr th {\n",
              "        vertical-align: top;\n",
              "    }\n",
              "\n",
              "    .dataframe thead th {\n",
              "        text-align: right;\n",
              "    }\n",
              "</style>\n",
              "<table border=\"1\" class=\"dataframe\">\n",
              "  <thead>\n",
              "    <tr style=\"text-align: right;\">\n",
              "      <th></th>\n",
              "      <th>importance</th>\n",
              "      <th>feature</th>\n",
              "    </tr>\n",
              "  </thead>\n",
              "  <tbody>\n",
              "    <tr>\n",
              "      <th>0</th>\n",
              "      <td>0.242781</td>\n",
              "      <td>Classification__NAI</td>\n",
              "    </tr>\n",
              "    <tr>\n",
              "      <th>1</th>\n",
              "      <td>0.204384</td>\n",
              "      <td>Program Area__Biologics</td>\n",
              "    </tr>\n",
              "    <tr>\n",
              "      <th>2</th>\n",
              "      <td>0.124548</td>\n",
              "      <td>Classification__OAI</td>\n",
              "    </tr>\n",
              "    <tr>\n",
              "      <th>3</th>\n",
              "      <td>0.117719</td>\n",
              "      <td>Program Area__Drugs</td>\n",
              "    </tr>\n",
              "    <tr>\n",
              "      <th>4</th>\n",
              "      <td>0.098453</td>\n",
              "      <td>Program Area__Devices</td>\n",
              "    </tr>\n",
              "    <tr>\n",
              "      <th>5</th>\n",
              "      <td>0.092091</td>\n",
              "      <td>Citations</td>\n",
              "    </tr>\n",
              "    <tr>\n",
              "      <th>6</th>\n",
              "      <td>0.077852</td>\n",
              "      <td>Region__NA</td>\n",
              "    </tr>\n",
              "    <tr>\n",
              "      <th>7</th>\n",
              "      <td>0.036951</td>\n",
              "      <td>Region__EMEA</td>\n",
              "    </tr>\n",
              "    <tr>\n",
              "      <th>8</th>\n",
              "      <td>0.004472</td>\n",
              "      <td>Classification__VAI</td>\n",
              "    </tr>\n",
              "    <tr>\n",
              "      <th>9</th>\n",
              "      <td>0.000749</td>\n",
              "      <td>Region__APAC</td>\n",
              "    </tr>\n",
              "    <tr>\n",
              "      <th>10</th>\n",
              "      <td>0.000000</td>\n",
              "      <td>Region__LATAM</td>\n",
              "    </tr>\n",
              "  </tbody>\n",
              "</table>\n",
              "</div>"
            ],
            "text/plain": [
              "    importance                  feature\n",
              "0     0.242781      Classification__NAI\n",
              "1     0.204384  Program Area__Biologics\n",
              "2     0.124548      Classification__OAI\n",
              "3     0.117719      Program Area__Drugs\n",
              "4     0.098453    Program Area__Devices\n",
              "5     0.092091                Citations\n",
              "6     0.077852               Region__NA\n",
              "7     0.036951             Region__EMEA\n",
              "8     0.004472      Classification__VAI\n",
              "9     0.000749             Region__APAC\n",
              "10    0.000000            Region__LATAM"
            ]
          },
          "metadata": {
            "tags": []
          },
          "execution_count": 36
        }
      ]
    },
    {
      "cell_type": "code",
      "metadata": {
        "id": "wq6VNV0I6_6k",
        "outputId": "061155ed-028a-42ba-d7f9-27388a0dd089",
        "colab": {
          "base_uri": "https://localhost:8080/",
          "height": 302
        }
      },
      "source": [
        "sns.barplot(x='importance', y='feature', data=importance, palette='Blues_d')"
      ],
      "execution_count": 37,
      "outputs": [
        {
          "output_type": "execute_result",
          "data": {
            "text/plain": [
              "<matplotlib.axes._subplots.AxesSubplot at 0x7fc203e91a20>"
            ]
          },
          "metadata": {
            "tags": []
          },
          "execution_count": 37
        },
        {
          "output_type": "display_data",
          "data": {
            "image/png": "[encoded data removed]",
            "text/plain": [
              "<Figure size 432x288 with 1 Axes>"
            ]
          },
          "metadata": {
            "tags": []
          }
        }
      ]
    },
    {
      "cell_type": "markdown",
      "metadata": {
        "id": "2IWQqPaC9nIe"
      },
      "source": [
        "From XGBoost's feature importance attribute, we can see the following:\n",
        "\n",
        "*   Feature *Classification__NAI* is most important feature for cluster prediction\n",
        "*   Feature *Program Area__Biologics* contribute more to cluster prediction than *Program Area__Drugs*\n",
        "*   Feature *Classification__OAI* contribute more to cluster prediction than *Classification__VAI*\n",
        "*   Feature *Region__LATAM* does not contribute \n",
        "\n"
      ]
    },
    {
      "cell_type": "markdown",
      "metadata": {
        "id": "F83is4U2cxqZ"
      },
      "source": [
        "#**6. Conclusion**\n",
        "\n",
        "\n"
      ]
    },
    {
      "cell_type": "markdown",
      "metadata": {
        "id": "feJMrub--9T2"
      },
      "source": [
        "Using UMAP, we can visually see that K-Prototypes produce high quality clusters. Using a very accurate multi-class classification model, we have evidence that the clusters are high quality and easily distinguishable. \n",
        "\n",
        "We can conclude the following:\n",
        "\n",
        "*   Inspections classified OAI are often clustered with inspections for devices or drugs, in North America, and end with high count of citations\n",
        "*   Inspections classified NAI are often clustered with inspections for devices, in North America, and end with lowest count of citations (none)"
      ]
    }
  ]
}